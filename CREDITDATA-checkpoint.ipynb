{
 "cells": [
  {
   "cell_type": "code",
   "execution_count": 134,
   "metadata": {},
   "outputs": [],
   "source": [
    "#import findspark module for Pyspark initialization in Jupyter Notebook.\n",
    "import findspark\n",
    "findspark.init()\n",
    "from pyspark import SparkContext, SparkConf\n",
    "conf = SparkConf().setAppName(\"appName2\")\n",
    "sc = SparkContext(conf=conf)\n",
    "\n",
    "import os\n",
    "import sys\n",
    "\n",
    "# initialise sc\n",
    "from pyspark import SparkConf, SparkContext\n",
    "from pyspark.sql import SQLContext, HiveContext\n",
    "from pyspark.sql.types import *\n",
    "sqlContext = SQLContext(sc)"
   ]
  },
  {
   "cell_type": "code",
   "execution_count": 47,
   "metadata": {},
   "outputs": [],
   "source": [
    "from pyspark.sql import SparkSession\n",
    "spark = SparkSession.builder.appName(\"how to read csv file\").getOrCreate()"
   ]
  },
  {
   "cell_type": "code",
   "execution_count": 48,
   "metadata": {},
   "outputs": [],
   "source": [
    "#Importing data\n",
    "creditdata = spark.read.csv('BankChurners.csv', header=True, inferSchema=True)"
   ]
  },
  {
   "cell_type": "code",
   "execution_count": 49,
   "metadata": {},
   "outputs": [
    {
     "name": "stdout",
     "output_type": "stream",
     "text": [
      "+---------+-----------------+------------+------+---------------+---------------+--------------+---------------+-------------+--------------+------------------------+----------------------+---------------------+------------+-------------------+---------------+--------------------+---------------+--------------+-------------------+---------------------+----------------------------------------------------------------------------------------------------------------------------------+----------------------------------------------------------------------------------------------------------------------------------+\n",
      "|CLIENTNUM|   Attrition_Flag|Customer_Age|Gender|Dependent_count|Education_Level|Marital_Status|Income_Category|Card_Category|Months_on_book|Total_Relationship_Count|Months_Inactive_12_mon|Contacts_Count_12_mon|Credit_Limit|Total_Revolving_Bal|Avg_Open_To_Buy|Total_Amt_Chng_Q4_Q1|Total_Trans_Amt|Total_Trans_Ct|Total_Ct_Chng_Q4_Q1|Avg_Utilization_Ratio|Naive_Bayes_Classifier_Attrition_Flag_Card_Category_Contacts_Count_12_mon_Dependent_count_Education_Level_Months_Inactive_12_mon_1|Naive_Bayes_Classifier_Attrition_Flag_Card_Category_Contacts_Count_12_mon_Dependent_count_Education_Level_Months_Inactive_12_mon_2|\n",
      "+---------+-----------------+------------+------+---------------+---------------+--------------+---------------+-------------+--------------+------------------------+----------------------+---------------------+------------+-------------------+---------------+--------------------+---------------+--------------+-------------------+---------------------+----------------------------------------------------------------------------------------------------------------------------------+----------------------------------------------------------------------------------------------------------------------------------+\n",
      "|768805383|Existing Customer|          45|     M|              3|    High School|       Married|    $60K - $80K|         Blue|            39|                       5|                     1|                    3|     12691.0|                777|        11914.0|               1.335|           1144|            42|              1.625|                0.061|                                                                                                                         9.3448E-5|                                                                                                                           0.99991|\n",
      "|818770008|Existing Customer|          49|     F|              5|       Graduate|        Single| Less than $40K|         Blue|            44|                       6|                     1|                    2|      8256.0|                864|         7392.0|               1.541|           1291|            33|              3.714|                0.105|                                                                                                                         5.6861E-5|                                                                                                                           0.99994|\n",
      "|713982108|Existing Customer|          51|     M|              3|       Graduate|       Married|   $80K - $120K|         Blue|            36|                       4|                     1|                    0|      3418.0|                  0|         3418.0|               2.594|           1887|            20|              2.333|                  0.0|                                                                                                                         2.1081E-5|                                                                                                                           0.99998|\n",
      "|769911858|Existing Customer|          40|     F|              4|    High School|       Unknown| Less than $40K|         Blue|            34|                       3|                     4|                    1|      3313.0|               2517|          796.0|               1.405|           1171|            20|              2.333|                 0.76|                                                                                                                         1.3366E-4|                                                                                                                           0.99987|\n",
      "|709106358|Existing Customer|          40|     M|              3|     Uneducated|       Married|    $60K - $80K|         Blue|            21|                       5|                     1|                    0|      4716.0|                  0|         4716.0|               2.175|            816|            28|                2.5|                  0.0|                                                                                                                         2.1676E-5|                                                                                                                           0.99998|\n",
      "|713061558|Existing Customer|          44|     M|              2|       Graduate|       Married|    $40K - $60K|         Blue|            36|                       3|                     1|                    2|      4010.0|               1247|         2763.0|               1.376|           1088|            24|              0.846|                0.311|                                                                                                                         5.5077E-5|                                                                                                                           0.99994|\n",
      "|810347208|Existing Customer|          51|     M|              4|        Unknown|       Married|        $120K +|         Gold|            46|                       6|                     1|                    3|     34516.0|               2264|        32252.0|               1.975|           1330|            31|              0.722|                0.066|                                                                                                                         1.2303E-4|                                                                                                                           0.99988|\n",
      "|818906208|Existing Customer|          32|     M|              0|    High School|       Unknown|    $60K - $80K|       Silver|            27|                       2|                     2|                    2|     29081.0|               1396|        27685.0|               2.204|           1538|            36|              0.714|                0.048|                                                                                                                         8.5795E-5|                                                                                                                           0.99991|\n",
      "|710930508|Existing Customer|          37|     M|              3|     Uneducated|        Single|    $60K - $80K|         Blue|            36|                       5|                     2|                    0|     22352.0|               2517|        19835.0|               3.355|           1350|            24|              1.182|                0.113|                                                                                                                         4.4796E-5|                                                                                                                           0.99996|\n",
      "|719661558|Existing Customer|          48|     M|              2|       Graduate|        Single|   $80K - $120K|         Blue|            36|                       6|                     3|                    3|     11656.0|               1677|         9979.0|               1.524|           1441|            32|              0.882|                0.144|                                                                                                                         3.0251E-4|                                                                                                                            0.9997|\n",
      "|708790833|Existing Customer|          42|     M|              5|     Uneducated|       Unknown|        $120K +|         Blue|            31|                       5|                     3|                    2|      6748.0|               1467|         5281.0|               0.831|           1201|            42|               0.68|                0.217|                                                                                                                         1.9094E-4|                                                                                                                           0.99981|\n",
      "|710821833|Existing Customer|          65|     M|              1|        Unknown|       Married|    $40K - $60K|         Blue|            54|                       6|                     2|                    3|      9095.0|               1587|         7508.0|               1.433|           1314|            26|              1.364|                0.174|                                                                                                                         1.9751E-4|                                                                                                                            0.9998|\n",
      "|710599683|Existing Customer|          56|     M|              1|        College|        Single|   $80K - $120K|         Blue|            36|                       3|                     6|                    0|     11751.0|                  0|        11751.0|               3.397|           1539|            17|               3.25|                  0.0|                                                                                                                         4.7799E-5|                                                                                                                           0.99995|\n",
      "|816082233|Existing Customer|          35|     M|              3|       Graduate|       Unknown|    $60K - $80K|         Blue|            30|                       5|                     1|                    3|      8547.0|               1666|         6881.0|               1.163|           1311|            33|                2.0|                0.195|                                                                                                                         9.6126E-5|                                                                                                                            0.9999|\n",
      "|712396908|Existing Customer|          57|     F|              2|       Graduate|       Married| Less than $40K|         Blue|            48|                       5|                     2|                    2|      2436.0|                680|         1756.0|                1.19|           1570|            29|              0.611|                0.279|                                                                                                                         1.1382E-4|                                                                                                                           0.99989|\n",
      "|714885258|Existing Customer|          44|     M|              4|        Unknown|       Unknown|   $80K - $120K|         Blue|            37|                       5|                     1|                    2|      4234.0|                972|         3262.0|               1.707|           1348|            27|                1.7|                 0.23|                                                                                                                         6.3492E-5|                                                                                                                           0.99994|\n",
      "|709967358|Existing Customer|          48|     M|              4|  Post-Graduate|        Single|   $80K - $120K|         Blue|            36|                       6|                     2|                    3|     30367.0|               2362|        28005.0|               1.708|           1671|            27|              0.929|                0.078|                                                                                                                         2.3623E-4|                                                                                                                           0.99976|\n",
      "|753327333|Existing Customer|          41|     M|              3|        Unknown|       Married|   $80K - $120K|         Blue|            34|                       4|                     4|                    1|     13535.0|               1291|        12244.0|               0.653|           1028|            21|              1.625|                0.095|                                                                                                                         1.4953E-4|                                                                                                                           0.99985|\n",
      "|806160108|Existing Customer|          61|     M|              1|    High School|       Married|    $40K - $60K|         Blue|            56|                       2|                     2|                    3|      3193.0|               2517|          676.0|               1.831|           1336|            30|              1.143|                0.788|                                                                                                                         1.7468E-4|                                                                                                                           0.99983|\n",
      "|709327383|Existing Customer|          45|     F|              2|       Graduate|       Married|        Unknown|         Blue|            37|                       6|                     1|                    2|     14470.0|               1157|        13313.0|               0.966|           1207|            21|              0.909|                 0.08|                                                                                                                         5.5077E-5|                                                                                                                           0.99994|\n",
      "+---------+-----------------+------------+------+---------------+---------------+--------------+---------------+-------------+--------------+------------------------+----------------------+---------------------+------------+-------------------+---------------+--------------------+---------------+--------------+-------------------+---------------------+----------------------------------------------------------------------------------------------------------------------------------+----------------------------------------------------------------------------------------------------------------------------------+\n",
      "only showing top 20 rows\n",
      "\n"
     ]
    }
   ],
   "source": [
    "#viewing data\n",
    "creditdata.show()"
   ]
  },
  {
   "cell_type": "code",
   "execution_count": 50,
   "metadata": {},
   "outputs": [
    {
     "data": {
      "text/plain": [
       "10127"
      ]
     },
     "execution_count": 50,
     "metadata": {},
     "output_type": "execute_result"
    }
   ],
   "source": [
    "#count of rows in dataset\n",
    "creditdata.count()"
   ]
  },
  {
   "cell_type": "code",
   "execution_count": 51,
   "metadata": {},
   "outputs": [
    {
     "data": {
      "text/plain": [
       "23"
      ]
     },
     "execution_count": 51,
     "metadata": {},
     "output_type": "execute_result"
    }
   ],
   "source": [
    " #total number of columns in the dataset\n",
    "len(creditdata.columns) "
   ]
  },
  {
   "cell_type": "code",
   "execution_count": 52,
   "metadata": {},
   "outputs": [
    {
     "data": {
      "text/plain": [
       "['CLIENTNUM',\n",
       " 'Attrition_Flag',\n",
       " 'Customer_Age',\n",
       " 'Gender',\n",
       " 'Dependent_count',\n",
       " 'Education_Level',\n",
       " 'Marital_Status',\n",
       " 'Income_Category',\n",
       " 'Card_Category',\n",
       " 'Months_on_book',\n",
       " 'Total_Relationship_Count',\n",
       " 'Months_Inactive_12_mon',\n",
       " 'Contacts_Count_12_mon',\n",
       " 'Credit_Limit',\n",
       " 'Total_Revolving_Bal',\n",
       " 'Avg_Open_To_Buy',\n",
       " 'Total_Amt_Chng_Q4_Q1',\n",
       " 'Total_Trans_Amt',\n",
       " 'Total_Trans_Ct',\n",
       " 'Total_Ct_Chng_Q4_Q1',\n",
       " 'Avg_Utilization_Ratio',\n",
       " 'Naive_Bayes_Classifier_Attrition_Flag_Card_Category_Contacts_Count_12_mon_Dependent_count_Education_Level_Months_Inactive_12_mon_1',\n",
       " 'Naive_Bayes_Classifier_Attrition_Flag_Card_Category_Contacts_Count_12_mon_Dependent_count_Education_Level_Months_Inactive_12_mon_2']"
      ]
     },
     "execution_count": 52,
     "metadata": {},
     "output_type": "execute_result"
    }
   ],
   "source": [
    "#list of column Names\n",
    "creditdata.columns"
   ]
  },
  {
   "cell_type": "code",
   "execution_count": 53,
   "metadata": {},
   "outputs": [
    {
     "name": "stdout",
     "output_type": "stream",
     "text": [
      "root\n",
      " |-- CLIENTNUM: integer (nullable = true)\n",
      " |-- Attrition_Flag: string (nullable = true)\n",
      " |-- Customer_Age: integer (nullable = true)\n",
      " |-- Gender: string (nullable = true)\n",
      " |-- Dependent_count: integer (nullable = true)\n",
      " |-- Education_Level: string (nullable = true)\n",
      " |-- Marital_Status: string (nullable = true)\n",
      " |-- Income_Category: string (nullable = true)\n",
      " |-- Card_Category: string (nullable = true)\n",
      " |-- Months_on_book: integer (nullable = true)\n",
      " |-- Total_Relationship_Count: integer (nullable = true)\n",
      " |-- Months_Inactive_12_mon: integer (nullable = true)\n",
      " |-- Contacts_Count_12_mon: integer (nullable = true)\n",
      " |-- Credit_Limit: double (nullable = true)\n",
      " |-- Total_Revolving_Bal: integer (nullable = true)\n",
      " |-- Avg_Open_To_Buy: double (nullable = true)\n",
      " |-- Total_Amt_Chng_Q4_Q1: double (nullable = true)\n",
      " |-- Total_Trans_Amt: integer (nullable = true)\n",
      " |-- Total_Trans_Ct: integer (nullable = true)\n",
      " |-- Total_Ct_Chng_Q4_Q1: double (nullable = true)\n",
      " |-- Avg_Utilization_Ratio: double (nullable = true)\n",
      " |-- Naive_Bayes_Classifier_Attrition_Flag_Card_Category_Contacts_Count_12_mon_Dependent_count_Education_Level_Months_Inactive_12_mon_1: double (nullable = true)\n",
      " |-- Naive_Bayes_Classifier_Attrition_Flag_Card_Category_Contacts_Count_12_mon_Dependent_count_Education_Level_Months_Inactive_12_mon_2: double (nullable = true)\n",
      "\n"
     ]
    }
   ],
   "source": [
    "#data schema\n",
    "creditdata.printSchema()"
   ]
  },
  {
   "cell_type": "code",
   "execution_count": 54,
   "metadata": {},
   "outputs": [
    {
     "data": {
      "text/plain": [
       "10127"
      ]
     },
     "execution_count": 54,
     "metadata": {},
     "output_type": "execute_result"
    }
   ],
   "source": [
    "#Checking for Null values\n",
    "Nullvaluecheck = creditdata.dropna()\n",
    "Nullvaluecheck.count()"
   ]
  },
  {
   "cell_type": "code",
   "execution_count": 55,
   "metadata": {},
   "outputs": [
    {
     "name": "stdout",
     "output_type": "stream",
     "text": [
      "Distinct count: 10127\n"
     ]
    }
   ],
   "source": [
    "#checking for duplicated values\n",
    "distinctcheck = creditdata.distinct()\n",
    "print(\"Distinct count: \"+str(distinctcheck.count()))"
   ]
  },
  {
   "cell_type": "code",
   "execution_count": 56,
   "metadata": {},
   "outputs": [],
   "source": [
    "#libraries\n",
    "import gmplot\n",
    "import pixiedust\n",
    "import matplotlib.pyplot as plt\n",
    "import numpy as np\n",
    "import seaborn as sns\n",
    "import pandas as pd"
   ]
  },
  {
   "cell_type": "code",
   "execution_count": 57,
   "metadata": {
    "pixiedust": {
     "displayParams": {
      "handlerId": "tableView"
     }
    }
   },
   "outputs": [
    {
     "data": {
      "text/html": [
       "<div>\n",
       "<style scoped>\n",
       "    .dataframe tbody tr th:only-of-type {\n",
       "        vertical-align: middle;\n",
       "    }\n",
       "\n",
       "    .dataframe tbody tr th {\n",
       "        vertical-align: top;\n",
       "    }\n",
       "\n",
       "    .dataframe thead th {\n",
       "        text-align: right;\n",
       "    }\n",
       "</style>\n",
       "<table border=\"1\" class=\"dataframe\">\n",
       "  <thead>\n",
       "    <tr style=\"text-align: right;\">\n",
       "      <th></th>\n",
       "      <th>Attrition_Flag</th>\n",
       "      <th>count</th>\n",
       "    </tr>\n",
       "  </thead>\n",
       "  <tbody>\n",
       "    <tr>\n",
       "      <th>0</th>\n",
       "      <td>Attrited Customer</td>\n",
       "      <td>1627</td>\n",
       "    </tr>\n",
       "    <tr>\n",
       "      <th>1</th>\n",
       "      <td>Existing Customer</td>\n",
       "      <td>8500</td>\n",
       "    </tr>\n",
       "  </tbody>\n",
       "</table>\n",
       "</div>"
      ],
      "text/plain": [
       "      Attrition_Flag  count\n",
       "0  Attrited Customer   1627\n",
       "1  Existing Customer   8500"
      ]
     },
     "execution_count": 57,
     "metadata": {},
     "output_type": "execute_result"
    }
   ],
   "source": [
    "#grouping target variable by its count\n",
    "credittarget =creditdata.groupby(\"Attrition_Flag\").count().orderBy(\"count\")\n",
    "credittarget.toPandas()\n"
   ]
  },
  {
   "cell_type": "code",
   "execution_count": 58,
   "metadata": {
    "pixiedust": {
     "displayParams": {
      "chartsize": "80",
      "handlerId": "barChart",
      "keyFields": "Attrition_Flag",
      "orientation": "vertical",
      "rendererId": "matplotlib",
      "valueFields": "count"
     }
    }
   },
   "outputs": [],
   "source": [
    "#Bar chart visualisation\n",
    "display(credittarget)"
   ]
  },
  {
   "cell_type": "code",
   "execution_count": 59,
   "metadata": {
    "pixiedust": {
     "displayParams": {
      "handlerId": "tableView",
      "table_nocount": "true",
      "table_noschema": "true",
      "table_nosearch": "true"
     }
    }
   },
   "outputs": [],
   "source": [
    "#Table Visualisation\n",
    "display(credittarget)"
   ]
  },
  {
   "cell_type": "code",
   "execution_count": 60,
   "metadata": {},
   "outputs": [],
   "source": [
    "#dropping unwanted columns\n",
    "newcredit = creditdata.drop(\"CLIENTNUM\",\n",
    "                            \"Naive_Bayes_Classifier_Attrition_Flag_Card_Category_Contacts_Count_12_mon_Dependent_count_Education_Level_Months_Inactive_12_mon_1\", \n",
    "                            \"Naive_Bayes_Classifier_Attrition_Flag_Card_Category_Contacts_Count_12_mon_Dependent_count_Education_Level_Months_Inactive_12_mon_2\")\n"
   ]
  },
  {
   "cell_type": "code",
   "execution_count": 61,
   "metadata": {},
   "outputs": [
    {
     "data": {
      "text/plain": [
       "20"
      ]
     },
     "execution_count": 61,
     "metadata": {},
     "output_type": "execute_result"
    }
   ],
   "source": [
    " #total number of columns in the dataset\n",
    "len(newcredit.columns) "
   ]
  },
  {
   "cell_type": "code",
   "execution_count": 62,
   "metadata": {},
   "outputs": [
    {
     "name": "stdout",
     "output_type": "stream",
     "text": [
      "root\n",
      " |-- Attrition_Flag: string (nullable = true)\n",
      " |-- Customer_Age: integer (nullable = true)\n",
      " |-- Gender: string (nullable = true)\n",
      " |-- Dependent_count: integer (nullable = true)\n",
      " |-- Education_Level: string (nullable = true)\n",
      " |-- Marital_Status: string (nullable = true)\n",
      " |-- Income_Category: string (nullable = true)\n",
      " |-- Card_Category: string (nullable = true)\n",
      " |-- Months_on_book: integer (nullable = true)\n",
      " |-- Total_Relationship_Count: integer (nullable = true)\n",
      " |-- Months_Inactive_12_mon: integer (nullable = true)\n",
      " |-- Contacts_Count_12_mon: integer (nullable = true)\n",
      " |-- Credit_Limit: double (nullable = true)\n",
      " |-- Total_Revolving_Bal: integer (nullable = true)\n",
      " |-- Avg_Open_To_Buy: double (nullable = true)\n",
      " |-- Total_Amt_Chng_Q4_Q1: double (nullable = true)\n",
      " |-- Total_Trans_Amt: integer (nullable = true)\n",
      " |-- Total_Trans_Ct: integer (nullable = true)\n",
      " |-- Total_Ct_Chng_Q4_Q1: double (nullable = true)\n",
      " |-- Avg_Utilization_Ratio: double (nullable = true)\n",
      "\n"
     ]
    }
   ],
   "source": [
    "newcredit.printSchema ()"
   ]
  },
  {
   "cell_type": "code",
   "execution_count": 63,
   "metadata": {},
   "outputs": [
    {
     "data": {
      "text/plain": [
       "1627"
      ]
     },
     "execution_count": 63,
     "metadata": {},
     "output_type": "execute_result"
    }
   ],
   "source": [
    "#creating dataframe for attrited customers only\n",
    "attrited= newcredit.filter(newcredit[\"attrition_flag\"]==\"Attrited Customer\")\n",
    "attrited.count()"
   ]
  },
  {
   "cell_type": "code",
   "execution_count": 64,
   "metadata": {},
   "outputs": [
    {
     "name": "stdout",
     "output_type": "stream",
     "text": [
      "+-----------------+------------+------+---------------+---------------+--------------+---------------+-------------+--------------+------------------------+----------------------+---------------------+------------+-------------------+---------------+--------------------+---------------+--------------+-------------------+---------------------+\n",
      "|   Attrition_Flag|Customer_Age|Gender|Dependent_count|Education_Level|Marital_Status|Income_Category|Card_Category|Months_on_book|Total_Relationship_Count|Months_Inactive_12_mon|Contacts_Count_12_mon|Credit_Limit|Total_Revolving_Bal|Avg_Open_To_Buy|Total_Amt_Chng_Q4_Q1|Total_Trans_Amt|Total_Trans_Ct|Total_Ct_Chng_Q4_Q1|Avg_Utilization_Ratio|\n",
      "+-----------------+------------+------+---------------+---------------+--------------+---------------+-------------+--------------+------------------------+----------------------+---------------------+------------+-------------------+---------------+--------------------+---------------+--------------+-------------------+---------------------+\n",
      "|Attrited Customer|          62|     F|              0|       Graduate|       Married| Less than $40K|         Blue|            49|                       2|                     3|                    3|      1438.3|                  0|         1438.3|               1.047|            692|            16|                0.6|                  0.0|\n",
      "|Attrited Customer|          66|     F|              0|      Doctorate|       Married|        Unknown|         Blue|            56|                       5|                     4|                    3|      7882.0|                605|         7277.0|               1.052|            704|            16|              0.143|                0.077|\n",
      "|Attrited Customer|          54|     F|              1|       Graduate|       Married| Less than $40K|         Blue|            40|                       2|                     3|                    1|      1438.3|                808|          630.3|               0.997|            705|            19|                0.9|                0.562|\n",
      "|Attrited Customer|          56|     M|              2|       Graduate|       Married|        $120K +|         Blue|            36|                       1|                     3|                    3|     15769.0|                  0|        15769.0|               1.041|            602|            15|              0.364|                  0.0|\n",
      "|Attrited Customer|          48|     M|              2|       Graduate|       Married|    $60K - $80K|       Silver|            35|                       2|                     4|                    4|     34516.0|                  0|        34516.0|               0.763|            691|            15|                0.5|                  0.0|\n",
      "+-----------------+------------+------+---------------+---------------+--------------+---------------+-------------+--------------+------------------------+----------------------+---------------------+------------+-------------------+---------------+--------------------+---------------+--------------+-------------------+---------------------+\n",
      "only showing top 5 rows\n",
      "\n"
     ]
    }
   ],
   "source": [
    "#checking the new df \n",
    "attrited.show(5)"
   ]
  },
  {
   "cell_type": "markdown",
   "metadata": {},
   "source": [
    "### Data Exploration"
   ]
  },
  {
   "cell_type": "code",
   "execution_count": 135,
   "metadata": {},
   "outputs": [
    {
     "data": {
      "text/html": [
       "<div>\n",
       "<style scoped>\n",
       "    .dataframe tbody tr th:only-of-type {\n",
       "        vertical-align: middle;\n",
       "    }\n",
       "\n",
       "    .dataframe tbody tr th {\n",
       "        vertical-align: top;\n",
       "    }\n",
       "\n",
       "    .dataframe thead th {\n",
       "        text-align: right;\n",
       "    }\n",
       "</style>\n",
       "<table border=\"1\" class=\"dataframe\">\n",
       "  <thead>\n",
       "    <tr style=\"text-align: right;\">\n",
       "      <th></th>\n",
       "      <th>Education_Level</th>\n",
       "      <th>count</th>\n",
       "    </tr>\n",
       "  </thead>\n",
       "  <tbody>\n",
       "    <tr>\n",
       "      <th>0</th>\n",
       "      <td>Post-Graduate</td>\n",
       "      <td>92</td>\n",
       "    </tr>\n",
       "    <tr>\n",
       "      <th>1</th>\n",
       "      <td>Doctorate</td>\n",
       "      <td>95</td>\n",
       "    </tr>\n",
       "    <tr>\n",
       "      <th>2</th>\n",
       "      <td>College</td>\n",
       "      <td>154</td>\n",
       "    </tr>\n",
       "    <tr>\n",
       "      <th>3</th>\n",
       "      <td>Uneducated</td>\n",
       "      <td>237</td>\n",
       "    </tr>\n",
       "    <tr>\n",
       "      <th>4</th>\n",
       "      <td>Unknown</td>\n",
       "      <td>256</td>\n",
       "    </tr>\n",
       "    <tr>\n",
       "      <th>5</th>\n",
       "      <td>High School</td>\n",
       "      <td>306</td>\n",
       "    </tr>\n",
       "    <tr>\n",
       "      <th>6</th>\n",
       "      <td>Graduate</td>\n",
       "      <td>487</td>\n",
       "    </tr>\n",
       "  </tbody>\n",
       "</table>\n",
       "</div>"
      ],
      "text/plain": [
       "  Education_Level  count\n",
       "0   Post-Graduate     92\n",
       "1       Doctorate     95\n",
       "2         College    154\n",
       "3      Uneducated    237\n",
       "4         Unknown    256\n",
       "5     High School    306\n",
       "6        Graduate    487"
      ]
     },
     "execution_count": 135,
     "metadata": {},
     "output_type": "execute_result"
    }
   ],
   "source": [
    "#grouping customer attrition by education\n",
    "Aeducation=attrited.groupby(\"Education_Level\").count().orderBy(\"count\")\n",
    "Aeducation.toPandas()"
   ]
  },
  {
   "cell_type": "code",
   "execution_count": 66,
   "metadata": {},
   "outputs": [
    {
     "data": {
      "image/png": "[encoded data removed]",
      "text/plain": [
       "<Figure size 432x288 with 1 Axes>"
      ]
     },
     "metadata": {},
     "output_type": "display_data"
    }
   ],
   "source": [
    "#Pie chart Visualisation\n",
    "# Data to plot\n",
    "labels = 'Postgraduate', 'Doctorate', 'College', 'Uneducated','Unknown','High School','Graduate'\n",
    "sizes = [92, 95, 154, 237,256,306,487]\n",
    "colors = ['gold', 'yellowgreen', 'lightcoral', 'lightgreen','darkorange','grey','skyblue']\n",
    "explode = (0, 0, 0, 0,0,0,0.2)  # explode 1st slice\n",
    "\n",
    "# Plot\n",
    "plt.pie(sizes, explode=explode, labels=labels,colors=colors, \n",
    "autopct='%1.1f%%', shadow=True, startangle=180,radius= 3.4)\n",
    "\n",
    "plt.title('Customer Attrition:Education Level')\n",
    "plt.axis('equal')\n",
    "plt.show()"
   ]
  },
  {
   "cell_type": "code",
   "execution_count": 67,
   "metadata": {},
   "outputs": [
    {
     "data": {
      "text/html": [
       "<div>\n",
       "<style scoped>\n",
       "    .dataframe tbody tr th:only-of-type {\n",
       "        vertical-align: middle;\n",
       "    }\n",
       "\n",
       "    .dataframe tbody tr th {\n",
       "        vertical-align: top;\n",
       "    }\n",
       "\n",
       "    .dataframe thead th {\n",
       "        text-align: right;\n",
       "    }\n",
       "</style>\n",
       "<table border=\"1\" class=\"dataframe\">\n",
       "  <thead>\n",
       "    <tr style=\"text-align: right;\">\n",
       "      <th></th>\n",
       "      <th>gender</th>\n",
       "      <th>count</th>\n",
       "    </tr>\n",
       "  </thead>\n",
       "  <tbody>\n",
       "    <tr>\n",
       "      <th>0</th>\n",
       "      <td>M</td>\n",
       "      <td>697</td>\n",
       "    </tr>\n",
       "    <tr>\n",
       "      <th>1</th>\n",
       "      <td>F</td>\n",
       "      <td>930</td>\n",
       "    </tr>\n",
       "  </tbody>\n",
       "</table>\n",
       "</div>"
      ],
      "text/plain": [
       "  gender  count\n",
       "0      M    697\n",
       "1      F    930"
      ]
     },
     "execution_count": 67,
     "metadata": {},
     "output_type": "execute_result"
    }
   ],
   "source": [
    "##grouping customer attrition by gender\n",
    "Agender=attrited.groupby(\"gender\").count().orderBy(\"count\")\n",
    "Agender.toPandas()"
   ]
  },
  {
   "cell_type": "code",
   "execution_count": 68,
   "metadata": {},
   "outputs": [
    {
     "data": {
      "image/png": "[encoded data removed]",
      "text/plain": [
       "<Figure size 432x288 with 1 Axes>"
      ]
     },
     "metadata": {},
     "output_type": "display_data"
    }
   ],
   "source": [
    "#Pie chart Visaualisation\n",
    "#Data to plot\n",
    "labels = ['Female', 'Male']\n",
    "sizes = [930, 697]\n",
    "colors = ['pink','lightblue']\n",
    "explode = (0.05,0.05)\n",
    "textprops = {\"fontsize\":12}\n",
    "\n",
    "#draw circle\n",
    "centre_circle = plt.Circle((0,0),0.6,fc='white')\n",
    "fig = plt.gcf()\n",
    "fig.gca().add_artist(centre_circle)\n",
    "\n",
    " #plot\n",
    "plt.pie(sizes, colors = colors, labels=labels, autopct='%1.1f%%', startangle=90, pctdistance=0.85, explode = explode,\n",
    "        shadow=True, radius= 1.4, textprops= textprops)\n",
    "plt.axis('equal')\n",
    "plt.title(\"Customer Attrition:Gender\")\n",
    "plt.tight_layout()\n",
    "plt.show()"
   ]
  },
  {
   "cell_type": "code",
   "execution_count": 69,
   "metadata": {},
   "outputs": [
    {
     "data": {
      "text/html": [
       "<div>\n",
       "<style scoped>\n",
       "    .dataframe tbody tr th:only-of-type {\n",
       "        vertical-align: middle;\n",
       "    }\n",
       "\n",
       "    .dataframe tbody tr th {\n",
       "        vertical-align: top;\n",
       "    }\n",
       "\n",
       "    .dataframe thead th {\n",
       "        text-align: right;\n",
       "    }\n",
       "</style>\n",
       "<table border=\"1\" class=\"dataframe\">\n",
       "  <thead>\n",
       "    <tr style=\"text-align: right;\">\n",
       "      <th></th>\n",
       "      <th>Marital_Status</th>\n",
       "      <th>count</th>\n",
       "    </tr>\n",
       "  </thead>\n",
       "  <tbody>\n",
       "    <tr>\n",
       "      <th>0</th>\n",
       "      <td>Divorced</td>\n",
       "      <td>121</td>\n",
       "    </tr>\n",
       "    <tr>\n",
       "      <th>1</th>\n",
       "      <td>Unknown</td>\n",
       "      <td>129</td>\n",
       "    </tr>\n",
       "    <tr>\n",
       "      <th>2</th>\n",
       "      <td>Single</td>\n",
       "      <td>668</td>\n",
       "    </tr>\n",
       "    <tr>\n",
       "      <th>3</th>\n",
       "      <td>Married</td>\n",
       "      <td>709</td>\n",
       "    </tr>\n",
       "  </tbody>\n",
       "</table>\n",
       "</div>"
      ],
      "text/plain": [
       "  Marital_Status  count\n",
       "0       Divorced    121\n",
       "1        Unknown    129\n",
       "2         Single    668\n",
       "3        Married    709"
      ]
     },
     "execution_count": 69,
     "metadata": {},
     "output_type": "execute_result"
    }
   ],
   "source": [
    "#grouping cutomer attrition by maritial status\n",
    "Amarital=attrited.groupby(\"Marital_Status\").count().orderBy('count')\n",
    "Amarital.toPandas()"
   ]
  },
  {
   "cell_type": "code",
   "execution_count": 70,
   "metadata": {},
   "outputs": [
    {
     "data": {
      "image/png": "[encoded data removed]",
      "text/plain": [
       "<Figure size 432x288 with 1 Axes>"
      ]
     },
     "metadata": {},
     "output_type": "display_data"
    }
   ],
   "source": [
    "#Pie chart Visualisation \n",
    "#Data to plot\n",
    "labels = ['Unknown', 'Married','Divorced','Single']\n",
    "sizes = [129, 709, 121, 668]\n",
    "colors = ['gold', 'yellowgreen', 'lightcoral', 'lightskyblue']\n",
    "explode = (0, 0.2, 0, 0)  # explode 1st slice\n",
    "textprops = {\"fontsize\":12}\n",
    "\n",
    "\n",
    "# Plot\n",
    "plt.pie(sizes, explode=explode, labels=labels, colors=colors,autopct='%1.1f%%', \n",
    "        radius= 5.5, startangle=360, textprops= textprops)\n",
    "plt.title (\"Customer Attrition: Marital Status\")\n",
    "\n",
    "plt.axis('equal')\n",
    "plt.show()"
   ]
  },
  {
   "cell_type": "code",
   "execution_count": 71,
   "metadata": {},
   "outputs": [
    {
     "data": {
      "text/html": [
       "<div>\n",
       "<style scoped>\n",
       "    .dataframe tbody tr th:only-of-type {\n",
       "        vertical-align: middle;\n",
       "    }\n",
       "\n",
       "    .dataframe tbody tr th {\n",
       "        vertical-align: top;\n",
       "    }\n",
       "\n",
       "    .dataframe thead th {\n",
       "        text-align: right;\n",
       "    }\n",
       "</style>\n",
       "<table border=\"1\" class=\"dataframe\">\n",
       "  <thead>\n",
       "    <tr style=\"text-align: right;\">\n",
       "      <th></th>\n",
       "      <th>Card_Category</th>\n",
       "      <th>count</th>\n",
       "    </tr>\n",
       "  </thead>\n",
       "  <tbody>\n",
       "    <tr>\n",
       "      <th>0</th>\n",
       "      <td>Platinum</td>\n",
       "      <td>5</td>\n",
       "    </tr>\n",
       "    <tr>\n",
       "      <th>1</th>\n",
       "      <td>Gold</td>\n",
       "      <td>21</td>\n",
       "    </tr>\n",
       "    <tr>\n",
       "      <th>2</th>\n",
       "      <td>Silver</td>\n",
       "      <td>82</td>\n",
       "    </tr>\n",
       "    <tr>\n",
       "      <th>3</th>\n",
       "      <td>Blue</td>\n",
       "      <td>1519</td>\n",
       "    </tr>\n",
       "  </tbody>\n",
       "</table>\n",
       "</div>"
      ],
      "text/plain": [
       "  Card_Category  count\n",
       "0      Platinum      5\n",
       "1          Gold     21\n",
       "2        Silver     82\n",
       "3          Blue   1519"
      ]
     },
     "execution_count": 71,
     "metadata": {},
     "output_type": "execute_result"
    }
   ],
   "source": [
    "#grouping cutomer attrition by card category\n",
    "Acard=attrited.groupby(\"Card_Category\").count().orderBy('count')\n",
    "Acard.toPandas()"
   ]
  },
  {
   "cell_type": "code",
   "execution_count": 72,
   "metadata": {},
   "outputs": [
    {
     "data": {
      "image/png": "[encoded data removed]",
      "text/plain": [
       "<Figure size 432x288 with 1 Axes>"
      ]
     },
     "metadata": {
      "needs_background": "light"
     },
     "output_type": "display_data"
    }
   ],
   "source": [
    "#Bar chart Visualisation\n",
    "#Data to plot\n",
    "height = [5, 82, 1519, 21]\n",
    "bars = ('Platinum', 'Silver', 'Blue', 'Gold')\n",
    "x = np.arange(len(bars))\n",
    "\n",
    "# Plot\n",
    "plt.bar(x, height, color=['red', 'grey', 'skyblue', 'gold'])\n",
    "plt.xticks(x, bars)\n",
    "plt.title (\"Customer Attrition: Card Category\")\n",
    "plt.ylabel('Amount')\n",
    "plt.xlabel('Card Category')\n",
    "plt.show()"
   ]
  },
  {
   "cell_type": "code",
   "execution_count": 73,
   "metadata": {},
   "outputs": [
    {
     "data": {
      "text/html": [
       "<div>\n",
       "<style scoped>\n",
       "    .dataframe tbody tr th:only-of-type {\n",
       "        vertical-align: middle;\n",
       "    }\n",
       "\n",
       "    .dataframe tbody tr th {\n",
       "        vertical-align: top;\n",
       "    }\n",
       "\n",
       "    .dataframe thead th {\n",
       "        text-align: right;\n",
       "    }\n",
       "</style>\n",
       "<table border=\"1\" class=\"dataframe\">\n",
       "  <thead>\n",
       "    <tr style=\"text-align: right;\">\n",
       "      <th></th>\n",
       "      <th>Income_Category</th>\n",
       "      <th>count</th>\n",
       "    </tr>\n",
       "  </thead>\n",
       "  <tbody>\n",
       "    <tr>\n",
       "      <th>0</th>\n",
       "      <td>$120K +</td>\n",
       "      <td>126</td>\n",
       "    </tr>\n",
       "    <tr>\n",
       "      <th>1</th>\n",
       "      <td>Unknown</td>\n",
       "      <td>187</td>\n",
       "    </tr>\n",
       "    <tr>\n",
       "      <th>2</th>\n",
       "      <td>$60K - $80K</td>\n",
       "      <td>189</td>\n",
       "    </tr>\n",
       "    <tr>\n",
       "      <th>3</th>\n",
       "      <td>$80K - $120K</td>\n",
       "      <td>242</td>\n",
       "    </tr>\n",
       "    <tr>\n",
       "      <th>4</th>\n",
       "      <td>$40K - $60K</td>\n",
       "      <td>271</td>\n",
       "    </tr>\n",
       "    <tr>\n",
       "      <th>5</th>\n",
       "      <td>Less than $40K</td>\n",
       "      <td>612</td>\n",
       "    </tr>\n",
       "  </tbody>\n",
       "</table>\n",
       "</div>"
      ],
      "text/plain": [
       "  Income_Category  count\n",
       "0         $120K +    126\n",
       "1         Unknown    187\n",
       "2     $60K - $80K    189\n",
       "3    $80K - $120K    242\n",
       "4     $40K - $60K    271\n",
       "5  Less than $40K    612"
      ]
     },
     "execution_count": 73,
     "metadata": {},
     "output_type": "execute_result"
    }
   ],
   "source": [
    "#grouping cutomer attrition by income category\n",
    "Aincome=attrited.groupby(\"Income_Category\").count().orderBy('count')\n",
    "Aincome.toPandas()"
   ]
  },
  {
   "cell_type": "code",
   "execution_count": 74,
   "metadata": {
    "pixiedust": {
     "displayParams": {
      "handlerId": "barChart",
      "keyFields": "Income_Category",
      "orientation": "horizontal",
      "valueFields": "count"
     }
    }
   },
   "outputs": [],
   "source": [
    "#Bar Visualisation\n",
    "display(Aincome)"
   ]
  },
  {
   "cell_type": "code",
   "execution_count": 75,
   "metadata": {},
   "outputs": [],
   "source": [
    "#creating a dataframe for numerical data for attrited customer only\n",
    "num_features=attrited.select('Customer_Age','Dependent_count','Months_on_book','Total_Relationship_Count','Months_Inactive_12_mon',\\\n",
    "                             'Contacts_Count_12_mon','Credit_Limit','Total_Revolving_Bal','Avg_Open_To_Buy','Total_Amt_Chng_Q4_Q1',\\\n",
    "                             'Total_Trans_Amt','Total_Trans_Ct','Total_Ct_Chng_Q4_Q1','Avg_Utilization_Ratio')"
   ]
  },
  {
   "cell_type": "code",
   "execution_count": 76,
   "metadata": {},
   "outputs": [
    {
     "data": {
      "text/html": [
       "<div>\n",
       "<style scoped>\n",
       "    .dataframe tbody tr th:only-of-type {\n",
       "        vertical-align: middle;\n",
       "    }\n",
       "\n",
       "    .dataframe tbody tr th {\n",
       "        vertical-align: top;\n",
       "    }\n",
       "\n",
       "    .dataframe thead th {\n",
       "        text-align: right;\n",
       "    }\n",
       "</style>\n",
       "<table border=\"1\" class=\"dataframe\">\n",
       "  <thead>\n",
       "    <tr style=\"text-align: right;\">\n",
       "      <th></th>\n",
       "      <th>0</th>\n",
       "      <th>1</th>\n",
       "      <th>2</th>\n",
       "      <th>3</th>\n",
       "      <th>4</th>\n",
       "    </tr>\n",
       "  </thead>\n",
       "  <tbody>\n",
       "    <tr>\n",
       "      <th>summary</th>\n",
       "      <td>count</td>\n",
       "      <td>mean</td>\n",
       "      <td>stddev</td>\n",
       "      <td>min</td>\n",
       "      <td>max</td>\n",
       "    </tr>\n",
       "    <tr>\n",
       "      <th>Customer_Age</th>\n",
       "      <td>1627</td>\n",
       "      <td>46.659496004917024</td>\n",
       "      <td>7.665651603482916</td>\n",
       "      <td>26</td>\n",
       "      <td>68</td>\n",
       "    </tr>\n",
       "    <tr>\n",
       "      <th>Dependent_count</th>\n",
       "      <td>1627</td>\n",
       "      <td>2.402581438229871</td>\n",
       "      <td>1.275010348451706</td>\n",
       "      <td>0</td>\n",
       "      <td>5</td>\n",
       "    </tr>\n",
       "    <tr>\n",
       "      <th>Months_on_book</th>\n",
       "      <td>1627</td>\n",
       "      <td>36.178242163491085</td>\n",
       "      <td>7.796548490955798</td>\n",
       "      <td>13</td>\n",
       "      <td>56</td>\n",
       "    </tr>\n",
       "    <tr>\n",
       "      <th>Total_Relationship_Count</th>\n",
       "      <td>1627</td>\n",
       "      <td>3.279655808236017</td>\n",
       "      <td>1.577781736303355</td>\n",
       "      <td>1</td>\n",
       "      <td>6</td>\n",
       "    </tr>\n",
       "    <tr>\n",
       "      <th>Months_Inactive_12_mon</th>\n",
       "      <td>1627</td>\n",
       "      <td>2.693300553165335</td>\n",
       "      <td>0.8996230507687535</td>\n",
       "      <td>0</td>\n",
       "      <td>6</td>\n",
       "    </tr>\n",
       "    <tr>\n",
       "      <th>Contacts_Count_12_mon</th>\n",
       "      <td>1627</td>\n",
       "      <td>2.972341733251383</td>\n",
       "      <td>1.090537230076184</td>\n",
       "      <td>0</td>\n",
       "      <td>6</td>\n",
       "    </tr>\n",
       "    <tr>\n",
       "      <th>Credit_Limit</th>\n",
       "      <td>1627</td>\n",
       "      <td>8136.03945912722</td>\n",
       "      <td>9095.334104641075</td>\n",
       "      <td>1438.3</td>\n",
       "      <td>34516.0</td>\n",
       "    </tr>\n",
       "    <tr>\n",
       "      <th>Total_Revolving_Bal</th>\n",
       "      <td>1627</td>\n",
       "      <td>672.8229870928088</td>\n",
       "      <td>921.3855819044372</td>\n",
       "      <td>0</td>\n",
       "      <td>2517</td>\n",
       "    </tr>\n",
       "    <tr>\n",
       "      <th>Avg_Open_To_Buy</th>\n",
       "      <td>1627</td>\n",
       "      <td>7463.216472034408</td>\n",
       "      <td>9109.208128933898</td>\n",
       "      <td>3.0</td>\n",
       "      <td>34516.0</td>\n",
       "    </tr>\n",
       "    <tr>\n",
       "      <th>Total_Amt_Chng_Q4_Q1</th>\n",
       "      <td>1627</td>\n",
       "      <td>0.6942765826674863</td>\n",
       "      <td>0.21492432596243158</td>\n",
       "      <td>0.0</td>\n",
       "      <td>1.492</td>\n",
       "    </tr>\n",
       "    <tr>\n",
       "      <th>Total_Trans_Amt</th>\n",
       "      <td>1627</td>\n",
       "      <td>3095.025814382299</td>\n",
       "      <td>2308.2276285737225</td>\n",
       "      <td>510</td>\n",
       "      <td>10583</td>\n",
       "    </tr>\n",
       "    <tr>\n",
       "      <th>Total_Trans_Ct</th>\n",
       "      <td>1627</td>\n",
       "      <td>44.93362015980332</td>\n",
       "      <td>14.56842934026687</td>\n",
       "      <td>10</td>\n",
       "      <td>94</td>\n",
       "    </tr>\n",
       "    <tr>\n",
       "      <th>Total_Ct_Chng_Q4_Q1</th>\n",
       "      <td>1627</td>\n",
       "      <td>0.5543859864781803</td>\n",
       "      <td>0.22685371903585988</td>\n",
       "      <td>0.0</td>\n",
       "      <td>2.5</td>\n",
       "    </tr>\n",
       "    <tr>\n",
       "      <th>Avg_Utilization_Ratio</th>\n",
       "      <td>1627</td>\n",
       "      <td>0.16247510755992617</td>\n",
       "      <td>0.2644576219162147</td>\n",
       "      <td>0.0</td>\n",
       "      <td>0.999</td>\n",
       "    </tr>\n",
       "  </tbody>\n",
       "</table>\n",
       "</div>"
      ],
      "text/plain": [
       "                              0                    1                    2  \\\n",
       "summary                   count                 mean               stddev   \n",
       "Customer_Age               1627   46.659496004917024    7.665651603482916   \n",
       "Dependent_count            1627    2.402581438229871    1.275010348451706   \n",
       "Months_on_book             1627   36.178242163491085    7.796548490955798   \n",
       "Total_Relationship_Count   1627    3.279655808236017    1.577781736303355   \n",
       "Months_Inactive_12_mon     1627    2.693300553165335   0.8996230507687535   \n",
       "Contacts_Count_12_mon      1627    2.972341733251383    1.090537230076184   \n",
       "Credit_Limit               1627     8136.03945912722    9095.334104641075   \n",
       "Total_Revolving_Bal        1627    672.8229870928088    921.3855819044372   \n",
       "Avg_Open_To_Buy            1627    7463.216472034408    9109.208128933898   \n",
       "Total_Amt_Chng_Q4_Q1       1627   0.6942765826674863  0.21492432596243158   \n",
       "Total_Trans_Amt            1627    3095.025814382299   2308.2276285737225   \n",
       "Total_Trans_Ct             1627    44.93362015980332    14.56842934026687   \n",
       "Total_Ct_Chng_Q4_Q1        1627   0.5543859864781803  0.22685371903585988   \n",
       "Avg_Utilization_Ratio      1627  0.16247510755992617   0.2644576219162147   \n",
       "\n",
       "                               3        4  \n",
       "summary                      min      max  \n",
       "Customer_Age                  26       68  \n",
       "Dependent_count                0        5  \n",
       "Months_on_book                13       56  \n",
       "Total_Relationship_Count       1        6  \n",
       "Months_Inactive_12_mon         0        6  \n",
       "Contacts_Count_12_mon          0        6  \n",
       "Credit_Limit              1438.3  34516.0  \n",
       "Total_Revolving_Bal            0     2517  \n",
       "Avg_Open_To_Buy              3.0  34516.0  \n",
       "Total_Amt_Chng_Q4_Q1         0.0    1.492  \n",
       "Total_Trans_Amt              510    10583  \n",
       "Total_Trans_Ct                10       94  \n",
       "Total_Ct_Chng_Q4_Q1          0.0      2.5  \n",
       "Avg_Utilization_Ratio        0.0    0.999  "
      ]
     },
     "execution_count": 76,
     "metadata": {},
     "output_type": "execute_result"
    }
   ],
   "source": [
    "#describe numerical data for attrited customers only\n",
    "num_features.describe().toPandas().transpose()"
   ]
  },
  {
   "cell_type": "code",
   "execution_count": 77,
   "metadata": {},
   "outputs": [],
   "source": [
    "#libraries\n",
    "from pyspark.sql.functions import col, lit"
   ]
  },
  {
   "cell_type": "code",
   "execution_count": 78,
   "metadata": {},
   "outputs": [
    {
     "data": {
      "text/plain": [
       "<bound method DataFrame.head of DataFrame[Attrition_Flag: string, Customer_Age: int, Gender: string, Dependent_count: int, Education_Level: string, Marital_Status: string, Income_Category: string, Card_Category: string, Months_on_book: int, Total_Relationship_Count: int, Months_Inactive_12_mon: int, Contacts_Count_12_mon: int, Credit_Limit: double, Total_Revolving_Bal: int, Avg_Open_To_Buy: double, Total_Amt_Chng_Q4_Q1: double, Total_Trans_Amt: int, Total_Trans_Ct: int, Total_Ct_Chng_Q4_Q1: double, Avg_Utilization_Ratio: double, agegroup: string]>"
      ]
     },
     "execution_count": 78,
     "metadata": {},
     "output_type": "execute_result"
    }
   ],
   "source": [
    "#creating a new column agegroup\n",
    "attritedagegroup= attrited.withColumn(\"agegroup\",lit(\" \"))\n",
    "attritedagegroup.head"
   ]
  },
  {
   "cell_type": "code",
   "execution_count": 79,
   "metadata": {},
   "outputs": [],
   "source": [
    "#libraries\n",
    "from pyspark.sql.functions import udf\n",
    "from pyspark.sql.types import *"
   ]
  },
  {
   "cell_type": "code",
   "execution_count": 80,
   "metadata": {},
   "outputs": [],
   "source": [
    "#Defining agegroups according to age min and max\n",
    "\n",
    "def ValueToCategory (value):  \n",
    "    if value >=26 and value <=35  :return \"Group A\"\n",
    "    elif value >= 36 and value <=45 :return \"Group B\"\n",
    "    elif value >=46 and value <=55 :return \"Group C\"\n",
    "    elif value >=56 and value<= 65 :return \"Group D\"\n",
    "    elif value >=65 :return \"Group E\"\n",
    "    else: return 'n/a'"
   ]
  },
  {
   "cell_type": "code",
   "execution_count": 81,
   "metadata": {},
   "outputs": [],
   "source": [
    "#Converting age(numeric) to category(string)\n",
    "udfValueToCategory = udf(ValueToCategory, StringType())\n",
    "AAG = attritedagegroup.withColumn(\"agegroup\", udfValueToCategory(\"Customer_Age\"))"
   ]
  },
  {
   "cell_type": "code",
   "execution_count": 84,
   "metadata": {},
   "outputs": [
    {
     "data": {
      "text/plain": [
       "Row(Attrition_Flag='Attrited Customer', Customer_Age=62, Gender='F', Dependent_count=0, Education_Level='Graduate', Marital_Status='Married', Income_Category='Less than $40K', Card_Category='Blue', Months_on_book=49, Total_Relationship_Count=2, Months_Inactive_12_mon=3, Contacts_Count_12_mon=3, Credit_Limit=1438.3, Total_Revolving_Bal=0, Avg_Open_To_Buy=1438.3, Total_Amt_Chng_Q4_Q1=1.047, Total_Trans_Amt=692, Total_Trans_Ct=16, Total_Ct_Chng_Q4_Q1=0.6, Avg_Utilization_Ratio=0.0, agegroup='Group D')"
      ]
     },
     "execution_count": 84,
     "metadata": {},
     "output_type": "execute_result"
    }
   ],
   "source": [
    "#viewing the agegroup column created\n",
    "AAG.head()"
   ]
  },
  {
   "cell_type": "code",
   "execution_count": 85,
   "metadata": {},
   "outputs": [
    {
     "name": "stdout",
     "output_type": "stream",
     "text": [
      "+-----------------+------------+--------+\n",
      "|   Attrition_Flag|Customer_Age|agegroup|\n",
      "+-----------------+------------+--------+\n",
      "|Attrited Customer|          62| Group D|\n",
      "|Attrited Customer|          66| Group E|\n",
      "|Attrited Customer|          54| Group C|\n",
      "|Attrited Customer|          56| Group D|\n",
      "|Attrited Customer|          48| Group C|\n",
      "|Attrited Customer|          55| Group C|\n",
      "|Attrited Customer|          47| Group C|\n",
      "|Attrited Customer|          53| Group C|\n",
      "|Attrited Customer|          48| Group C|\n",
      "|Attrited Customer|          59| Group D|\n",
      "|Attrited Customer|          48| Group C|\n",
      "|Attrited Customer|          46| Group C|\n",
      "|Attrited Customer|          53| Group C|\n",
      "|Attrited Customer|          68| Group E|\n",
      "|Attrited Customer|          55| Group C|\n",
      "|Attrited Customer|          59| Group D|\n",
      "|Attrited Customer|          60| Group D|\n",
      "|Attrited Customer|          52| Group C|\n",
      "|Attrited Customer|          53| Group C|\n",
      "|Attrited Customer|          49| Group C|\n",
      "+-----------------+------------+--------+\n",
      "only showing top 20 rows\n",
      "\n"
     ]
    }
   ],
   "source": [
    "#viewing selected columns with agegroup created\n",
    "AAG.select('Attrition_Flag','Customer_Age','agegroup').show()"
   ]
  },
  {
   "cell_type": "code",
   "execution_count": 86,
   "metadata": {},
   "outputs": [
    {
     "data": {
      "text/plain": [
       "0"
      ]
     },
     "execution_count": 86,
     "metadata": {},
     "output_type": "execute_result"
    }
   ],
   "source": [
    "#crosschecking all agegroups defined \n",
    "AAG.filter(AAG[\"agegroup\"]=='n/a').count()"
   ]
  },
  {
   "cell_type": "code",
   "execution_count": 87,
   "metadata": {},
   "outputs": [
    {
     "data": {
      "text/html": [
       "<div>\n",
       "<style scoped>\n",
       "    .dataframe tbody tr th:only-of-type {\n",
       "        vertical-align: middle;\n",
       "    }\n",
       "\n",
       "    .dataframe tbody tr th {\n",
       "        vertical-align: top;\n",
       "    }\n",
       "\n",
       "    .dataframe thead th {\n",
       "        text-align: right;\n",
       "    }\n",
       "</style>\n",
       "<table border=\"1\" class=\"dataframe\">\n",
       "  <thead>\n",
       "    <tr style=\"text-align: right;\">\n",
       "      <th></th>\n",
       "      <th>agegroup</th>\n",
       "      <th>count</th>\n",
       "    </tr>\n",
       "  </thead>\n",
       "  <tbody>\n",
       "    <tr>\n",
       "      <th>0</th>\n",
       "      <td>Group A</td>\n",
       "      <td>122</td>\n",
       "    </tr>\n",
       "    <tr>\n",
       "      <th>1</th>\n",
       "      <td>Group B</td>\n",
       "      <td>606</td>\n",
       "    </tr>\n",
       "    <tr>\n",
       "      <th>2</th>\n",
       "      <td>Group C</td>\n",
       "      <td>688</td>\n",
       "    </tr>\n",
       "    <tr>\n",
       "      <th>3</th>\n",
       "      <td>Group D</td>\n",
       "      <td>209</td>\n",
       "    </tr>\n",
       "    <tr>\n",
       "      <th>4</th>\n",
       "      <td>Group E</td>\n",
       "      <td>2</td>\n",
       "    </tr>\n",
       "  </tbody>\n",
       "</table>\n",
       "</div>"
      ],
      "text/plain": [
       "  agegroup  count\n",
       "0  Group A    122\n",
       "1  Group B    606\n",
       "2  Group C    688\n",
       "3  Group D    209\n",
       "4  Group E      2"
      ]
     },
     "execution_count": 87,
     "metadata": {},
     "output_type": "execute_result"
    }
   ],
   "source": [
    "#grouping cutomer attrition by age group\n",
    "Aagegroup=AAG.groupby(\"agegroup\").count().orderBy('agegroup')\n",
    "Aagegroup.toPandas()"
   ]
  },
  {
   "cell_type": "code",
   "execution_count": 88,
   "metadata": {},
   "outputs": [
    {
     "data": {
      "image/png": "[encoded data removed]",
      "text/plain": [
       "<Figure size 432x288 with 1 Axes>"
      ]
     },
     "metadata": {
      "needs_background": "light"
     },
     "output_type": "display_data"
    }
   ],
   "source": [
    "#Bar chart Visualisation\n",
    "#Data to plot\n",
    "height = [122, 606, 688,209,2]\n",
    "bars = ('Group A','Group B', 'Group C', 'Group D', 'Group E')\n",
    "x = np.arange(len(bars))\n",
    "              \n",
    "# Plot\n",
    "plt.bar(x, height, color=['grey','orange','green', 'skyblue','red'])\n",
    "plt.xticks(x, bars)\n",
    "plt.title (\"Customer Attrition: Age group\")\n",
    "plt.ylabel('Amount')\n",
    "plt.xlabel('Age group')\n",
    "plt.show()\n",
    "              \n",
    "              \n"
   ]
  },
  {
   "cell_type": "code",
   "execution_count": 89,
   "metadata": {},
   "outputs": [
    {
     "data": {
      "text/html": [
       "<div>\n",
       "<style scoped>\n",
       "    .dataframe tbody tr th:only-of-type {\n",
       "        vertical-align: middle;\n",
       "    }\n",
       "\n",
       "    .dataframe tbody tr th {\n",
       "        vertical-align: top;\n",
       "    }\n",
       "\n",
       "    .dataframe thead th {\n",
       "        text-align: right;\n",
       "    }\n",
       "</style>\n",
       "<table border=\"1\" class=\"dataframe\">\n",
       "  <thead>\n",
       "    <tr style=\"text-align: right;\">\n",
       "      <th></th>\n",
       "      <th>Dependent_count</th>\n",
       "      <th>count</th>\n",
       "    </tr>\n",
       "  </thead>\n",
       "  <tbody>\n",
       "    <tr>\n",
       "      <th>0</th>\n",
       "      <td>0</td>\n",
       "      <td>135</td>\n",
       "    </tr>\n",
       "    <tr>\n",
       "      <th>1</th>\n",
       "      <td>1</td>\n",
       "      <td>269</td>\n",
       "    </tr>\n",
       "    <tr>\n",
       "      <th>2</th>\n",
       "      <td>2</td>\n",
       "      <td>417</td>\n",
       "    </tr>\n",
       "    <tr>\n",
       "      <th>3</th>\n",
       "      <td>3</td>\n",
       "      <td>482</td>\n",
       "    </tr>\n",
       "    <tr>\n",
       "      <th>4</th>\n",
       "      <td>4</td>\n",
       "      <td>260</td>\n",
       "    </tr>\n",
       "    <tr>\n",
       "      <th>5</th>\n",
       "      <td>5</td>\n",
       "      <td>64</td>\n",
       "    </tr>\n",
       "  </tbody>\n",
       "</table>\n",
       "</div>"
      ],
      "text/plain": [
       "   Dependent_count  count\n",
       "0                0    135\n",
       "1                1    269\n",
       "2                2    417\n",
       "3                3    482\n",
       "4                4    260\n",
       "5                5     64"
      ]
     },
     "execution_count": 89,
     "metadata": {},
     "output_type": "execute_result"
    }
   ],
   "source": [
    "#grouping dependent by their count\n",
    "dependent_count=attrited.groupby(\"Dependent_count\").count().orderBy('Dependent_count')\n",
    "d2=dependent_count.toPandas()\n",
    "d2"
   ]
  },
  {
   "cell_type": "code",
   "execution_count": 90,
   "metadata": {},
   "outputs": [
    {
     "data": {
      "image/png": "[encoded data removed]",
      "text/plain": [
       "<Figure size 432x288 with 1 Axes>"
      ]
     },
     "metadata": {
      "needs_background": "light"
     },
     "output_type": "display_data"
    }
   ],
   "source": [
    "#bar chart for dependent count\n",
    "dataFrame = pd.DataFrame(data=d2)\n",
    "dataFrame.plot.bar(x=\"Dependent_count\", y=\"count\", rot=70, title=\"Attrited customer: Dependent Count\");\n",
    "plt.show(block=True)"
   ]
  },
  {
   "cell_type": "code",
   "execution_count": null,
   "metadata": {},
   "outputs": [],
   "source": [
    "#grouping months on book by its count\n",
    "mob=attrited.groupby(\"Months_on_book\").count().orderBy('count')\n",
    "mob.toPandas()"
   ]
  },
  {
   "cell_type": "code",
   "execution_count": null,
   "metadata": {},
   "outputs": [],
   "source": [
    "#grouping total relationship by its count\n",
    "trc=attrited.groupby(\"Total_Relationship_Count\").count().orderBy('count')\n",
    "trc.toPandas()"
   ]
  },
  {
   "cell_type": "code",
   "execution_count": null,
   "metadata": {},
   "outputs": [],
   "source": [
    "#bar chart \n",
    "#Data to plot\n",
    "height = [233,346,400,225,227,196]\n",
    "bars = (1,2,3,4,5,6)\n",
    "x = np.arange(len(bars))\n",
    "\n",
    "# Plot\n",
    "plt.bar(x, height, color=['orange','brown'])\n",
    "plt.xticks(x, bars)\n",
    "plt.title (\"Customer Attrition: Total Relationship Count\")\n",
    "plt.ylabel('count')\n",
    "plt.xlabel('Total Relationship')\n",
    "plt.show()"
   ]
  },
  {
   "cell_type": "code",
   "execution_count": null,
   "metadata": {},
   "outputs": [],
   "source": [
    "#grouping contact count\n",
    "cc=attrited.groupby(\"Contacts_Count_12_mon\").count().orderBy('count')\n",
    "cc_=cc.toPandas()\n",
    "cc_= cc_.set_index ('Contacts_Count_12_mon') \n",
    "cc_"
   ]
  },
  {
   "cell_type": "code",
   "execution_count": null,
   "metadata": {},
   "outputs": [],
   "source": [
    "#grouping months inactive\n",
    "ma=attrited.groupby(\"Months_Inactive_12_mon\").count().orderBy('count')\n",
    "ma_=ma.toPandas()\n",
    "ma_= ma_.set_index ('Months_Inactive_12_mon') \n",
    "ma_"
   ]
  },
  {
   "cell_type": "code",
   "execution_count": null,
   "metadata": {},
   "outputs": [],
   "source": [
    "#grouping months inactive, contact count  \n",
    "AAG.groupby(\"Months_Inactive_12_mon\",\"Contacts_Count_12_mon\").count().orderBy(\"Contacts_Count_12_mon\").toPandas()"
   ]
  },
  {
   "cell_type": "code",
   "execution_count": null,
   "metadata": {},
   "outputs": [],
   "source": [
    "#dataframe for complete dataset numerical values \n",
    "num_featuresA=newcredit.select('Customer_Age','Dependent_count','Months_on_book','Total_Relationship_Count',\\\n",
    "                            'Months_Inactive_12_mon',)\n",
    "num_featuresA=num_featuresA.toPandas() \n",
    "\n",
    "num_featuresB=newcredit.select( 'Credit_Limit','Total_Revolving_Bal','Contacts_Count_12_mon','Avg_Open_To_Buy')\n",
    "num_featuresB=num_featuresB.toPandas() \n",
    "\n",
    "num_featuresC=newcredit.select('Total_Amt_Chng_Q4_Q1',\\\n",
    "                             'Total_Trans_Amt','Total_Trans_Ct','Total_Ct_Chng_Q4_Q1','Avg_Utilization_Ratio')\n",
    "num_featuresC=num_featuresC.toPandas() \n",
    "\n"
   ]
  },
  {
   "cell_type": "code",
   "execution_count": null,
   "metadata": {},
   "outputs": [],
   "source": [
    "#visualisations for numerical value distribution\n",
    "sns.pairplot(num_featuresA)"
   ]
  },
  {
   "cell_type": "code",
   "execution_count": null,
   "metadata": {},
   "outputs": [],
   "source": [
    "#visualisations for numerical value distribution\n",
    "sns.pairplot(num_featuresB)"
   ]
  },
  {
   "cell_type": "code",
   "execution_count": null,
   "metadata": {},
   "outputs": [],
   "source": [
    "#visualisations for numerical value distribution\n",
    "sns.pairplot(num_featuresC)"
   ]
  },
  {
   "cell_type": "markdown",
   "metadata": {},
   "source": [
    "### Feature Selection"
   ]
  },
  {
   "cell_type": "code",
   "execution_count": 91,
   "metadata": {},
   "outputs": [],
   "source": [
    "##libraries\n",
    "import pandas as pd\n",
    "import seaborn as sns\n"
   ]
  },
  {
   "cell_type": "code",
   "execution_count": 92,
   "metadata": {},
   "outputs": [],
   "source": [
    "#converting df to pandas\n",
    "newcreditP2 = newcredit.toPandas()"
   ]
  },
  {
   "cell_type": "code",
   "execution_count": 93,
   "metadata": {
    "scrolled": true
   },
   "outputs": [
    {
     "data": {
      "text/html": [
       "<div>\n",
       "<style scoped>\n",
       "    .dataframe tbody tr th:only-of-type {\n",
       "        vertical-align: middle;\n",
       "    }\n",
       "\n",
       "    .dataframe tbody tr th {\n",
       "        vertical-align: top;\n",
       "    }\n",
       "\n",
       "    .dataframe thead th {\n",
       "        text-align: right;\n",
       "    }\n",
       "</style>\n",
       "<table border=\"1\" class=\"dataframe\">\n",
       "  <thead>\n",
       "    <tr style=\"text-align: right;\">\n",
       "      <th></th>\n",
       "      <th>Attrition_Flag</th>\n",
       "      <th>Customer_Age</th>\n",
       "      <th>Gender</th>\n",
       "      <th>Dependent_count</th>\n",
       "      <th>Education_Level</th>\n",
       "      <th>Marital_Status</th>\n",
       "      <th>Income_Category</th>\n",
       "      <th>Card_Category</th>\n",
       "      <th>Months_on_book</th>\n",
       "      <th>Total_Relationship_Count</th>\n",
       "      <th>Months_Inactive_12_mon</th>\n",
       "      <th>Contacts_Count_12_mon</th>\n",
       "      <th>Credit_Limit</th>\n",
       "      <th>Total_Revolving_Bal</th>\n",
       "      <th>Avg_Open_To_Buy</th>\n",
       "      <th>Total_Amt_Chng_Q4_Q1</th>\n",
       "      <th>Total_Trans_Amt</th>\n",
       "      <th>Total_Trans_Ct</th>\n",
       "      <th>Total_Ct_Chng_Q4_Q1</th>\n",
       "      <th>Avg_Utilization_Ratio</th>\n",
       "    </tr>\n",
       "  </thead>\n",
       "  <tbody>\n",
       "    <tr>\n",
       "      <th>0</th>\n",
       "      <td>Existing Customer</td>\n",
       "      <td>45</td>\n",
       "      <td>M</td>\n",
       "      <td>3</td>\n",
       "      <td>High School</td>\n",
       "      <td>Married</td>\n",
       "      <td>$60K - $80K</td>\n",
       "      <td>Blue</td>\n",
       "      <td>39</td>\n",
       "      <td>5</td>\n",
       "      <td>1</td>\n",
       "      <td>3</td>\n",
       "      <td>12691.0</td>\n",
       "      <td>777</td>\n",
       "      <td>11914.0</td>\n",
       "      <td>1.335</td>\n",
       "      <td>1144</td>\n",
       "      <td>42</td>\n",
       "      <td>1.625</td>\n",
       "      <td>0.061</td>\n",
       "    </tr>\n",
       "    <tr>\n",
       "      <th>1</th>\n",
       "      <td>Existing Customer</td>\n",
       "      <td>49</td>\n",
       "      <td>F</td>\n",
       "      <td>5</td>\n",
       "      <td>Graduate</td>\n",
       "      <td>Single</td>\n",
       "      <td>Less than $40K</td>\n",
       "      <td>Blue</td>\n",
       "      <td>44</td>\n",
       "      <td>6</td>\n",
       "      <td>1</td>\n",
       "      <td>2</td>\n",
       "      <td>8256.0</td>\n",
       "      <td>864</td>\n",
       "      <td>7392.0</td>\n",
       "      <td>1.541</td>\n",
       "      <td>1291</td>\n",
       "      <td>33</td>\n",
       "      <td>3.714</td>\n",
       "      <td>0.105</td>\n",
       "    </tr>\n",
       "    <tr>\n",
       "      <th>2</th>\n",
       "      <td>Existing Customer</td>\n",
       "      <td>51</td>\n",
       "      <td>M</td>\n",
       "      <td>3</td>\n",
       "      <td>Graduate</td>\n",
       "      <td>Married</td>\n",
       "      <td>$80K - $120K</td>\n",
       "      <td>Blue</td>\n",
       "      <td>36</td>\n",
       "      <td>4</td>\n",
       "      <td>1</td>\n",
       "      <td>0</td>\n",
       "      <td>3418.0</td>\n",
       "      <td>0</td>\n",
       "      <td>3418.0</td>\n",
       "      <td>2.594</td>\n",
       "      <td>1887</td>\n",
       "      <td>20</td>\n",
       "      <td>2.333</td>\n",
       "      <td>0.000</td>\n",
       "    </tr>\n",
       "    <tr>\n",
       "      <th>3</th>\n",
       "      <td>Existing Customer</td>\n",
       "      <td>40</td>\n",
       "      <td>F</td>\n",
       "      <td>4</td>\n",
       "      <td>High School</td>\n",
       "      <td>Unknown</td>\n",
       "      <td>Less than $40K</td>\n",
       "      <td>Blue</td>\n",
       "      <td>34</td>\n",
       "      <td>3</td>\n",
       "      <td>4</td>\n",
       "      <td>1</td>\n",
       "      <td>3313.0</td>\n",
       "      <td>2517</td>\n",
       "      <td>796.0</td>\n",
       "      <td>1.405</td>\n",
       "      <td>1171</td>\n",
       "      <td>20</td>\n",
       "      <td>2.333</td>\n",
       "      <td>0.760</td>\n",
       "    </tr>\n",
       "    <tr>\n",
       "      <th>4</th>\n",
       "      <td>Existing Customer</td>\n",
       "      <td>40</td>\n",
       "      <td>M</td>\n",
       "      <td>3</td>\n",
       "      <td>Uneducated</td>\n",
       "      <td>Married</td>\n",
       "      <td>$60K - $80K</td>\n",
       "      <td>Blue</td>\n",
       "      <td>21</td>\n",
       "      <td>5</td>\n",
       "      <td>1</td>\n",
       "      <td>0</td>\n",
       "      <td>4716.0</td>\n",
       "      <td>0</td>\n",
       "      <td>4716.0</td>\n",
       "      <td>2.175</td>\n",
       "      <td>816</td>\n",
       "      <td>28</td>\n",
       "      <td>2.500</td>\n",
       "      <td>0.000</td>\n",
       "    </tr>\n",
       "    <tr>\n",
       "      <th>...</th>\n",
       "      <td>...</td>\n",
       "      <td>...</td>\n",
       "      <td>...</td>\n",
       "      <td>...</td>\n",
       "      <td>...</td>\n",
       "      <td>...</td>\n",
       "      <td>...</td>\n",
       "      <td>...</td>\n",
       "      <td>...</td>\n",
       "      <td>...</td>\n",
       "      <td>...</td>\n",
       "      <td>...</td>\n",
       "      <td>...</td>\n",
       "      <td>...</td>\n",
       "      <td>...</td>\n",
       "      <td>...</td>\n",
       "      <td>...</td>\n",
       "      <td>...</td>\n",
       "      <td>...</td>\n",
       "      <td>...</td>\n",
       "    </tr>\n",
       "    <tr>\n",
       "      <th>10122</th>\n",
       "      <td>Existing Customer</td>\n",
       "      <td>50</td>\n",
       "      <td>M</td>\n",
       "      <td>2</td>\n",
       "      <td>Graduate</td>\n",
       "      <td>Single</td>\n",
       "      <td>$40K - $60K</td>\n",
       "      <td>Blue</td>\n",
       "      <td>40</td>\n",
       "      <td>3</td>\n",
       "      <td>2</td>\n",
       "      <td>3</td>\n",
       "      <td>4003.0</td>\n",
       "      <td>1851</td>\n",
       "      <td>2152.0</td>\n",
       "      <td>0.703</td>\n",
       "      <td>15476</td>\n",
       "      <td>117</td>\n",
       "      <td>0.857</td>\n",
       "      <td>0.462</td>\n",
       "    </tr>\n",
       "    <tr>\n",
       "      <th>10123</th>\n",
       "      <td>Attrited Customer</td>\n",
       "      <td>41</td>\n",
       "      <td>M</td>\n",
       "      <td>2</td>\n",
       "      <td>Unknown</td>\n",
       "      <td>Divorced</td>\n",
       "      <td>$40K - $60K</td>\n",
       "      <td>Blue</td>\n",
       "      <td>25</td>\n",
       "      <td>4</td>\n",
       "      <td>2</td>\n",
       "      <td>3</td>\n",
       "      <td>4277.0</td>\n",
       "      <td>2186</td>\n",
       "      <td>2091.0</td>\n",
       "      <td>0.804</td>\n",
       "      <td>8764</td>\n",
       "      <td>69</td>\n",
       "      <td>0.683</td>\n",
       "      <td>0.511</td>\n",
       "    </tr>\n",
       "    <tr>\n",
       "      <th>10124</th>\n",
       "      <td>Attrited Customer</td>\n",
       "      <td>44</td>\n",
       "      <td>F</td>\n",
       "      <td>1</td>\n",
       "      <td>High School</td>\n",
       "      <td>Married</td>\n",
       "      <td>Less than $40K</td>\n",
       "      <td>Blue</td>\n",
       "      <td>36</td>\n",
       "      <td>5</td>\n",
       "      <td>3</td>\n",
       "      <td>4</td>\n",
       "      <td>5409.0</td>\n",
       "      <td>0</td>\n",
       "      <td>5409.0</td>\n",
       "      <td>0.819</td>\n",
       "      <td>10291</td>\n",
       "      <td>60</td>\n",
       "      <td>0.818</td>\n",
       "      <td>0.000</td>\n",
       "    </tr>\n",
       "    <tr>\n",
       "      <th>10125</th>\n",
       "      <td>Attrited Customer</td>\n",
       "      <td>30</td>\n",
       "      <td>M</td>\n",
       "      <td>2</td>\n",
       "      <td>Graduate</td>\n",
       "      <td>Unknown</td>\n",
       "      <td>$40K - $60K</td>\n",
       "      <td>Blue</td>\n",
       "      <td>36</td>\n",
       "      <td>4</td>\n",
       "      <td>3</td>\n",
       "      <td>3</td>\n",
       "      <td>5281.0</td>\n",
       "      <td>0</td>\n",
       "      <td>5281.0</td>\n",
       "      <td>0.535</td>\n",
       "      <td>8395</td>\n",
       "      <td>62</td>\n",
       "      <td>0.722</td>\n",
       "      <td>0.000</td>\n",
       "    </tr>\n",
       "    <tr>\n",
       "      <th>10126</th>\n",
       "      <td>Attrited Customer</td>\n",
       "      <td>43</td>\n",
       "      <td>F</td>\n",
       "      <td>2</td>\n",
       "      <td>Graduate</td>\n",
       "      <td>Married</td>\n",
       "      <td>Less than $40K</td>\n",
       "      <td>Silver</td>\n",
       "      <td>25</td>\n",
       "      <td>6</td>\n",
       "      <td>2</td>\n",
       "      <td>4</td>\n",
       "      <td>10388.0</td>\n",
       "      <td>1961</td>\n",
       "      <td>8427.0</td>\n",
       "      <td>0.703</td>\n",
       "      <td>10294</td>\n",
       "      <td>61</td>\n",
       "      <td>0.649</td>\n",
       "      <td>0.189</td>\n",
       "    </tr>\n",
       "  </tbody>\n",
       "</table>\n",
       "<p>10127 rows × 20 columns</p>\n",
       "</div>"
      ],
      "text/plain": [
       "          Attrition_Flag  Customer_Age Gender  Dependent_count  \\\n",
       "0      Existing Customer            45      M                3   \n",
       "1      Existing Customer            49      F                5   \n",
       "2      Existing Customer            51      M                3   \n",
       "3      Existing Customer            40      F                4   \n",
       "4      Existing Customer            40      M                3   \n",
       "...                  ...           ...    ...              ...   \n",
       "10122  Existing Customer            50      M                2   \n",
       "10123  Attrited Customer            41      M                2   \n",
       "10124  Attrited Customer            44      F                1   \n",
       "10125  Attrited Customer            30      M                2   \n",
       "10126  Attrited Customer            43      F                2   \n",
       "\n",
       "      Education_Level Marital_Status Income_Category Card_Category  \\\n",
       "0         High School        Married     $60K - $80K          Blue   \n",
       "1            Graduate         Single  Less than $40K          Blue   \n",
       "2            Graduate        Married    $80K - $120K          Blue   \n",
       "3         High School        Unknown  Less than $40K          Blue   \n",
       "4          Uneducated        Married     $60K - $80K          Blue   \n",
       "...               ...            ...             ...           ...   \n",
       "10122        Graduate         Single     $40K - $60K          Blue   \n",
       "10123         Unknown       Divorced     $40K - $60K          Blue   \n",
       "10124     High School        Married  Less than $40K          Blue   \n",
       "10125        Graduate        Unknown     $40K - $60K          Blue   \n",
       "10126        Graduate        Married  Less than $40K        Silver   \n",
       "\n",
       "       Months_on_book  Total_Relationship_Count  Months_Inactive_12_mon  \\\n",
       "0                  39                         5                       1   \n",
       "1                  44                         6                       1   \n",
       "2                  36                         4                       1   \n",
       "3                  34                         3                       4   \n",
       "4                  21                         5                       1   \n",
       "...               ...                       ...                     ...   \n",
       "10122              40                         3                       2   \n",
       "10123              25                         4                       2   \n",
       "10124              36                         5                       3   \n",
       "10125              36                         4                       3   \n",
       "10126              25                         6                       2   \n",
       "\n",
       "       Contacts_Count_12_mon  Credit_Limit  Total_Revolving_Bal  \\\n",
       "0                          3       12691.0                  777   \n",
       "1                          2        8256.0                  864   \n",
       "2                          0        3418.0                    0   \n",
       "3                          1        3313.0                 2517   \n",
       "4                          0        4716.0                    0   \n",
       "...                      ...           ...                  ...   \n",
       "10122                      3        4003.0                 1851   \n",
       "10123                      3        4277.0                 2186   \n",
       "10124                      4        5409.0                    0   \n",
       "10125                      3        5281.0                    0   \n",
       "10126                      4       10388.0                 1961   \n",
       "\n",
       "       Avg_Open_To_Buy  Total_Amt_Chng_Q4_Q1  Total_Trans_Amt  Total_Trans_Ct  \\\n",
       "0              11914.0                 1.335             1144              42   \n",
       "1               7392.0                 1.541             1291              33   \n",
       "2               3418.0                 2.594             1887              20   \n",
       "3                796.0                 1.405             1171              20   \n",
       "4               4716.0                 2.175              816              28   \n",
       "...                ...                   ...              ...             ...   \n",
       "10122           2152.0                 0.703            15476             117   \n",
       "10123           2091.0                 0.804             8764              69   \n",
       "10124           5409.0                 0.819            10291              60   \n",
       "10125           5281.0                 0.535             8395              62   \n",
       "10126           8427.0                 0.703            10294              61   \n",
       "\n",
       "       Total_Ct_Chng_Q4_Q1  Avg_Utilization_Ratio  \n",
       "0                    1.625                  0.061  \n",
       "1                    3.714                  0.105  \n",
       "2                    2.333                  0.000  \n",
       "3                    2.333                  0.760  \n",
       "4                    2.500                  0.000  \n",
       "...                    ...                    ...  \n",
       "10122                0.857                  0.462  \n",
       "10123                0.683                  0.511  \n",
       "10124                0.818                  0.000  \n",
       "10125                0.722                  0.000  \n",
       "10126                0.649                  0.189  \n",
       "\n",
       "[10127 rows x 20 columns]"
      ]
     },
     "execution_count": 93,
     "metadata": {},
     "output_type": "execute_result"
    }
   ],
   "source": [
    "#viewing pandas df \n",
    "newcreditP2"
   ]
  },
  {
   "cell_type": "code",
   "execution_count": 94,
   "metadata": {},
   "outputs": [],
   "source": [
    "#libraries\n",
    "from sklearn.preprocessing import LabelEncoder, OneHotEncoder\n",
    "import warnings\n",
    "warnings.filterwarnings(\"ignore\")\n",
    "np.random.seed(123)"
   ]
  },
  {
   "cell_type": "code",
   "execution_count": 95,
   "metadata": {},
   "outputs": [],
   "source": [
    "#Encoding the categorical value\n",
    "label_encoder = LabelEncoder()\n",
    "newcreditP2.loc[:,['Attrition_Flag','Gender','Education_Level',\n",
    "                    'Marital_Status','Income_Category','Card_Category']]=\\\n",
    "newcreditP2.loc[:,['Attrition_Flag','Gender','Education_Level',\n",
    "                    'Marital_Status','Income_Category','Card_Category']]\\\n",
    "                .apply(label_encoder.fit_transform)"
   ]
  },
  {
   "cell_type": "code",
   "execution_count": 96,
   "metadata": {},
   "outputs": [
    {
     "data": {
      "text/html": [
       "<div>\n",
       "<style scoped>\n",
       "    .dataframe tbody tr th:only-of-type {\n",
       "        vertical-align: middle;\n",
       "    }\n",
       "\n",
       "    .dataframe tbody tr th {\n",
       "        vertical-align: top;\n",
       "    }\n",
       "\n",
       "    .dataframe thead th {\n",
       "        text-align: right;\n",
       "    }\n",
       "</style>\n",
       "<table border=\"1\" class=\"dataframe\">\n",
       "  <thead>\n",
       "    <tr style=\"text-align: right;\">\n",
       "      <th></th>\n",
       "      <th>Attrition_Flag</th>\n",
       "      <th>Customer_Age</th>\n",
       "      <th>Gender</th>\n",
       "      <th>Dependent_count</th>\n",
       "      <th>Education_Level</th>\n",
       "      <th>Marital_Status</th>\n",
       "      <th>Income_Category</th>\n",
       "      <th>Card_Category</th>\n",
       "      <th>Months_on_book</th>\n",
       "      <th>Total_Relationship_Count</th>\n",
       "      <th>Months_Inactive_12_mon</th>\n",
       "      <th>Contacts_Count_12_mon</th>\n",
       "      <th>Credit_Limit</th>\n",
       "      <th>Total_Revolving_Bal</th>\n",
       "      <th>Avg_Open_To_Buy</th>\n",
       "      <th>Total_Amt_Chng_Q4_Q1</th>\n",
       "      <th>Total_Trans_Amt</th>\n",
       "      <th>Total_Trans_Ct</th>\n",
       "      <th>Total_Ct_Chng_Q4_Q1</th>\n",
       "      <th>Avg_Utilization_Ratio</th>\n",
       "    </tr>\n",
       "  </thead>\n",
       "  <tbody>\n",
       "    <tr>\n",
       "      <th>0</th>\n",
       "      <td>1</td>\n",
       "      <td>45</td>\n",
       "      <td>1</td>\n",
       "      <td>3</td>\n",
       "      <td>3</td>\n",
       "      <td>1</td>\n",
       "      <td>2</td>\n",
       "      <td>0</td>\n",
       "      <td>39</td>\n",
       "      <td>5</td>\n",
       "      <td>1</td>\n",
       "      <td>3</td>\n",
       "      <td>12691.0</td>\n",
       "      <td>777</td>\n",
       "      <td>11914.0</td>\n",
       "      <td>1.335</td>\n",
       "      <td>1144</td>\n",
       "      <td>42</td>\n",
       "      <td>1.625</td>\n",
       "      <td>0.061</td>\n",
       "    </tr>\n",
       "    <tr>\n",
       "      <th>1</th>\n",
       "      <td>1</td>\n",
       "      <td>49</td>\n",
       "      <td>0</td>\n",
       "      <td>5</td>\n",
       "      <td>2</td>\n",
       "      <td>2</td>\n",
       "      <td>4</td>\n",
       "      <td>0</td>\n",
       "      <td>44</td>\n",
       "      <td>6</td>\n",
       "      <td>1</td>\n",
       "      <td>2</td>\n",
       "      <td>8256.0</td>\n",
       "      <td>864</td>\n",
       "      <td>7392.0</td>\n",
       "      <td>1.541</td>\n",
       "      <td>1291</td>\n",
       "      <td>33</td>\n",
       "      <td>3.714</td>\n",
       "      <td>0.105</td>\n",
       "    </tr>\n",
       "    <tr>\n",
       "      <th>2</th>\n",
       "      <td>1</td>\n",
       "      <td>51</td>\n",
       "      <td>1</td>\n",
       "      <td>3</td>\n",
       "      <td>2</td>\n",
       "      <td>1</td>\n",
       "      <td>3</td>\n",
       "      <td>0</td>\n",
       "      <td>36</td>\n",
       "      <td>4</td>\n",
       "      <td>1</td>\n",
       "      <td>0</td>\n",
       "      <td>3418.0</td>\n",
       "      <td>0</td>\n",
       "      <td>3418.0</td>\n",
       "      <td>2.594</td>\n",
       "      <td>1887</td>\n",
       "      <td>20</td>\n",
       "      <td>2.333</td>\n",
       "      <td>0.000</td>\n",
       "    </tr>\n",
       "    <tr>\n",
       "      <th>3</th>\n",
       "      <td>1</td>\n",
       "      <td>40</td>\n",
       "      <td>0</td>\n",
       "      <td>4</td>\n",
       "      <td>3</td>\n",
       "      <td>3</td>\n",
       "      <td>4</td>\n",
       "      <td>0</td>\n",
       "      <td>34</td>\n",
       "      <td>3</td>\n",
       "      <td>4</td>\n",
       "      <td>1</td>\n",
       "      <td>3313.0</td>\n",
       "      <td>2517</td>\n",
       "      <td>796.0</td>\n",
       "      <td>1.405</td>\n",
       "      <td>1171</td>\n",
       "      <td>20</td>\n",
       "      <td>2.333</td>\n",
       "      <td>0.760</td>\n",
       "    </tr>\n",
       "    <tr>\n",
       "      <th>4</th>\n",
       "      <td>1</td>\n",
       "      <td>40</td>\n",
       "      <td>1</td>\n",
       "      <td>3</td>\n",
       "      <td>5</td>\n",
       "      <td>1</td>\n",
       "      <td>2</td>\n",
       "      <td>0</td>\n",
       "      <td>21</td>\n",
       "      <td>5</td>\n",
       "      <td>1</td>\n",
       "      <td>0</td>\n",
       "      <td>4716.0</td>\n",
       "      <td>0</td>\n",
       "      <td>4716.0</td>\n",
       "      <td>2.175</td>\n",
       "      <td>816</td>\n",
       "      <td>28</td>\n",
       "      <td>2.500</td>\n",
       "      <td>0.000</td>\n",
       "    </tr>\n",
       "    <tr>\n",
       "      <th>...</th>\n",
       "      <td>...</td>\n",
       "      <td>...</td>\n",
       "      <td>...</td>\n",
       "      <td>...</td>\n",
       "      <td>...</td>\n",
       "      <td>...</td>\n",
       "      <td>...</td>\n",
       "      <td>...</td>\n",
       "      <td>...</td>\n",
       "      <td>...</td>\n",
       "      <td>...</td>\n",
       "      <td>...</td>\n",
       "      <td>...</td>\n",
       "      <td>...</td>\n",
       "      <td>...</td>\n",
       "      <td>...</td>\n",
       "      <td>...</td>\n",
       "      <td>...</td>\n",
       "      <td>...</td>\n",
       "      <td>...</td>\n",
       "    </tr>\n",
       "    <tr>\n",
       "      <th>10122</th>\n",
       "      <td>1</td>\n",
       "      <td>50</td>\n",
       "      <td>1</td>\n",
       "      <td>2</td>\n",
       "      <td>2</td>\n",
       "      <td>2</td>\n",
       "      <td>1</td>\n",
       "      <td>0</td>\n",
       "      <td>40</td>\n",
       "      <td>3</td>\n",
       "      <td>2</td>\n",
       "      <td>3</td>\n",
       "      <td>4003.0</td>\n",
       "      <td>1851</td>\n",
       "      <td>2152.0</td>\n",
       "      <td>0.703</td>\n",
       "      <td>15476</td>\n",
       "      <td>117</td>\n",
       "      <td>0.857</td>\n",
       "      <td>0.462</td>\n",
       "    </tr>\n",
       "    <tr>\n",
       "      <th>10123</th>\n",
       "      <td>0</td>\n",
       "      <td>41</td>\n",
       "      <td>1</td>\n",
       "      <td>2</td>\n",
       "      <td>6</td>\n",
       "      <td>0</td>\n",
       "      <td>1</td>\n",
       "      <td>0</td>\n",
       "      <td>25</td>\n",
       "      <td>4</td>\n",
       "      <td>2</td>\n",
       "      <td>3</td>\n",
       "      <td>4277.0</td>\n",
       "      <td>2186</td>\n",
       "      <td>2091.0</td>\n",
       "      <td>0.804</td>\n",
       "      <td>8764</td>\n",
       "      <td>69</td>\n",
       "      <td>0.683</td>\n",
       "      <td>0.511</td>\n",
       "    </tr>\n",
       "    <tr>\n",
       "      <th>10124</th>\n",
       "      <td>0</td>\n",
       "      <td>44</td>\n",
       "      <td>0</td>\n",
       "      <td>1</td>\n",
       "      <td>3</td>\n",
       "      <td>1</td>\n",
       "      <td>4</td>\n",
       "      <td>0</td>\n",
       "      <td>36</td>\n",
       "      <td>5</td>\n",
       "      <td>3</td>\n",
       "      <td>4</td>\n",
       "      <td>5409.0</td>\n",
       "      <td>0</td>\n",
       "      <td>5409.0</td>\n",
       "      <td>0.819</td>\n",
       "      <td>10291</td>\n",
       "      <td>60</td>\n",
       "      <td>0.818</td>\n",
       "      <td>0.000</td>\n",
       "    </tr>\n",
       "    <tr>\n",
       "      <th>10125</th>\n",
       "      <td>0</td>\n",
       "      <td>30</td>\n",
       "      <td>1</td>\n",
       "      <td>2</td>\n",
       "      <td>2</td>\n",
       "      <td>3</td>\n",
       "      <td>1</td>\n",
       "      <td>0</td>\n",
       "      <td>36</td>\n",
       "      <td>4</td>\n",
       "      <td>3</td>\n",
       "      <td>3</td>\n",
       "      <td>5281.0</td>\n",
       "      <td>0</td>\n",
       "      <td>5281.0</td>\n",
       "      <td>0.535</td>\n",
       "      <td>8395</td>\n",
       "      <td>62</td>\n",
       "      <td>0.722</td>\n",
       "      <td>0.000</td>\n",
       "    </tr>\n",
       "    <tr>\n",
       "      <th>10126</th>\n",
       "      <td>0</td>\n",
       "      <td>43</td>\n",
       "      <td>0</td>\n",
       "      <td>2</td>\n",
       "      <td>2</td>\n",
       "      <td>1</td>\n",
       "      <td>4</td>\n",
       "      <td>3</td>\n",
       "      <td>25</td>\n",
       "      <td>6</td>\n",
       "      <td>2</td>\n",
       "      <td>4</td>\n",
       "      <td>10388.0</td>\n",
       "      <td>1961</td>\n",
       "      <td>8427.0</td>\n",
       "      <td>0.703</td>\n",
       "      <td>10294</td>\n",
       "      <td>61</td>\n",
       "      <td>0.649</td>\n",
       "      <td>0.189</td>\n",
       "    </tr>\n",
       "  </tbody>\n",
       "</table>\n",
       "<p>10127 rows × 20 columns</p>\n",
       "</div>"
      ],
      "text/plain": [
       "       Attrition_Flag  Customer_Age  Gender  Dependent_count  Education_Level  \\\n",
       "0                   1            45       1                3                3   \n",
       "1                   1            49       0                5                2   \n",
       "2                   1            51       1                3                2   \n",
       "3                   1            40       0                4                3   \n",
       "4                   1            40       1                3                5   \n",
       "...               ...           ...     ...              ...              ...   \n",
       "10122               1            50       1                2                2   \n",
       "10123               0            41       1                2                6   \n",
       "10124               0            44       0                1                3   \n",
       "10125               0            30       1                2                2   \n",
       "10126               0            43       0                2                2   \n",
       "\n",
       "       Marital_Status  Income_Category  Card_Category  Months_on_book  \\\n",
       "0                   1                2              0              39   \n",
       "1                   2                4              0              44   \n",
       "2                   1                3              0              36   \n",
       "3                   3                4              0              34   \n",
       "4                   1                2              0              21   \n",
       "...               ...              ...            ...             ...   \n",
       "10122               2                1              0              40   \n",
       "10123               0                1              0              25   \n",
       "10124               1                4              0              36   \n",
       "10125               3                1              0              36   \n",
       "10126               1                4              3              25   \n",
       "\n",
       "       Total_Relationship_Count  Months_Inactive_12_mon  \\\n",
       "0                             5                       1   \n",
       "1                             6                       1   \n",
       "2                             4                       1   \n",
       "3                             3                       4   \n",
       "4                             5                       1   \n",
       "...                         ...                     ...   \n",
       "10122                         3                       2   \n",
       "10123                         4                       2   \n",
       "10124                         5                       3   \n",
       "10125                         4                       3   \n",
       "10126                         6                       2   \n",
       "\n",
       "       Contacts_Count_12_mon  Credit_Limit  Total_Revolving_Bal  \\\n",
       "0                          3       12691.0                  777   \n",
       "1                          2        8256.0                  864   \n",
       "2                          0        3418.0                    0   \n",
       "3                          1        3313.0                 2517   \n",
       "4                          0        4716.0                    0   \n",
       "...                      ...           ...                  ...   \n",
       "10122                      3        4003.0                 1851   \n",
       "10123                      3        4277.0                 2186   \n",
       "10124                      4        5409.0                    0   \n",
       "10125                      3        5281.0                    0   \n",
       "10126                      4       10388.0                 1961   \n",
       "\n",
       "       Avg_Open_To_Buy  Total_Amt_Chng_Q4_Q1  Total_Trans_Amt  Total_Trans_Ct  \\\n",
       "0              11914.0                 1.335             1144              42   \n",
       "1               7392.0                 1.541             1291              33   \n",
       "2               3418.0                 2.594             1887              20   \n",
       "3                796.0                 1.405             1171              20   \n",
       "4               4716.0                 2.175              816              28   \n",
       "...                ...                   ...              ...             ...   \n",
       "10122           2152.0                 0.703            15476             117   \n",
       "10123           2091.0                 0.804             8764              69   \n",
       "10124           5409.0                 0.819            10291              60   \n",
       "10125           5281.0                 0.535             8395              62   \n",
       "10126           8427.0                 0.703            10294              61   \n",
       "\n",
       "       Total_Ct_Chng_Q4_Q1  Avg_Utilization_Ratio  \n",
       "0                    1.625                  0.061  \n",
       "1                    3.714                  0.105  \n",
       "2                    2.333                  0.000  \n",
       "3                    2.333                  0.760  \n",
       "4                    2.500                  0.000  \n",
       "...                    ...                    ...  \n",
       "10122                0.857                  0.462  \n",
       "10123                0.683                  0.511  \n",
       "10124                0.818                  0.000  \n",
       "10125                0.722                  0.000  \n",
       "10126                0.649                  0.189  \n",
       "\n",
       "[10127 rows x 20 columns]"
      ]
     },
     "execution_count": 96,
     "metadata": {},
     "output_type": "execute_result"
    }
   ],
   "source": [
    "#crosschecking encoded column\n",
    "newcreditP2"
   ]
  },
  {
   "cell_type": "code",
   "execution_count": 97,
   "metadata": {},
   "outputs": [
    {
     "data": {
      "text/plain": [
       "1    8500\n",
       "0    1627\n",
       "Name: Attrition_Flag, dtype: int64"
      ]
     },
     "execution_count": 97,
     "metadata": {},
     "output_type": "execute_result"
    }
   ],
   "source": [
    "#identifying the encoder values. 1=existing and 0 =attrited\n",
    "newcreditP2.Attrition_Flag.value_counts()"
   ]
  },
  {
   "cell_type": "code",
   "execution_count": 98,
   "metadata": {},
   "outputs": [
    {
     "data": {
      "image/png": "[encoded data removed]",
      "text/plain": [
       "<Figure size 1080x1080 with 2 Axes>"
      ]
     },
     "metadata": {
      "needs_background": "light"
     },
     "output_type": "display_data"
    }
   ],
   "source": [
    "#plotting correlation heat map\n",
    "X = newcreditP2.iloc[:,1:19]  #independent columns\n",
    "y = newcreditP2.iloc[:,0]    #target column\n",
    "#get correlations of each features in dataset\n",
    "corrmat = newcreditP2.corr(method='pearson') #pearson method\n",
    "top_corr_features = corrmat.index\n",
    "plt.figure(figsize=(15,15))\n",
    "#plot heat map\n",
    "g=sns.heatmap(newcreditP2[top_corr_features].corr(),annot=True,fmt='.1g',cmap=\"RdYlGn\")"
   ]
  },
  {
   "cell_type": "code",
   "execution_count": null,
   "metadata": {
    "scrolled": true
   },
   "outputs": [],
   "source": [
    "#Feature selection using extratreeclassifier: ensemble tree method\n",
    "from sklearn.ensemble import ExtraTreesClassifier\n",
    "#import matplotlib.pyplot as plt\n",
    "model = ExtraTreesClassifier(n_estimators = 10,criterion ='entropy',max_features = 2,random_state=9)\n",
    "model.fit(X,y)\n",
    "#plot graph of feature importances for better visualization\n",
    "feat_importances = pd.Series(model.feature_importances_, index=X.columns)\n",
    "feat_importances.nlargest(15).plot(kind='barh', title= 'Feature importance')\n",
    "plt.show()"
   ]
  },
  {
   "cell_type": "code",
   "execution_count": null,
   "metadata": {},
   "outputs": [],
   "source": [
    "#viewing the numerical feature importance for extratree classifier\n",
    "list(zip(X.columns, model.feature_importances_))"
   ]
  },
  {
   "cell_type": "code",
   "execution_count": null,
   "metadata": {},
   "outputs": [],
   "source": [
    "#duplicating the dataset\n",
    "newcreditP3= newcreditP2.copy()\n",
    "newcreditP3.head()"
   ]
  },
  {
   "cell_type": "code",
   "execution_count": null,
   "metadata": {},
   "outputs": [],
   "source": [
    "# Import library for VIF\n",
    "from statsmodels.stats.outliers_influence import variance_inflation_factor\n",
    "#testing for multicorrelation\n",
    "def calc_vif(X):\n",
    "\n",
    "    # Calculating VIF\n",
    "    vif = pd.DataFrame()\n",
    "    vif[\"variables\"] = X.columns\n",
    "    vif[\"VIF\"] = [variance_inflation_factor(X.values, i) for i in range(X.shape[1])]\n",
    "\n",
    "    return(vif)"
   ]
  },
  {
   "cell_type": "code",
   "execution_count": null,
   "metadata": {},
   "outputs": [],
   "source": [
    "#defining column range \n",
    "vif1= newcreditP3.iloc[:,1:20]"
   ]
  },
  {
   "cell_type": "code",
   "execution_count": null,
   "metadata": {},
   "outputs": [],
   "source": [
    "calc_vif(vif1)"
   ]
  },
  {
   "cell_type": "code",
   "execution_count": null,
   "metadata": {},
   "outputs": [],
   "source": [
    "# dropping correlated values\n",
    "newcreditP4=newcreditP3.drop(['Total_Trans_Amt','Gender','Customer_Age','Months_on_book','Avg_Open_To_Buy','Income_Category','Total_Amt_Chng_Q4_Q1'],axis=1)"
   ]
  },
  {
   "cell_type": "code",
   "execution_count": null,
   "metadata": {},
   "outputs": [],
   "source": [
    "newcreditP4.head()"
   ]
  },
  {
   "cell_type": "code",
   "execution_count": null,
   "metadata": {},
   "outputs": [],
   "source": [
    "#defining column range and calculating vif\n",
    "P = newcreditP4.iloc[:,1:13]\n",
    "calc_vif(P)"
   ]
  },
  {
   "cell_type": "code",
   "execution_count": 99,
   "metadata": {},
   "outputs": [],
   "source": [
    "#selected features for prediction\n",
    "Sdata= newcreditP3[['Dependent_count','Marital_Status','Education_Level','Total_Relationship_Count','Months_Inactive_12_mon','Contacts_Count_12_mon',\\\n",
    "                            'Credit_Limit','Total_Revolving_Bal','Total_Trans_Ct','Total_Ct_Chng_Q4_Q1','Attrition_Flag']]"
   ]
  },
  {
   "cell_type": "markdown",
   "metadata": {},
   "source": [
    "### Test split and Smote oversampling "
   ]
  },
  {
   "cell_type": "code",
   "execution_count": 100,
   "metadata": {},
   "outputs": [],
   "source": [
    "from imblearn.over_sampling import SMOTE  \n",
    "from sklearn.model_selection import train_test_split\n",
    "from collections import Counter"
   ]
  },
  {
   "cell_type": "code",
   "execution_count": 101,
   "metadata": {},
   "outputs": [],
   "source": [
    "#defining for target and independent columns for split\n",
    "A= Sdata.iloc[:,0:10]  #independent columns\n",
    "B= Sdata.iloc[:,-1]    #target column"
   ]
  },
  {
   "cell_type": "code",
   "execution_count": 102,
   "metadata": {},
   "outputs": [
    {
     "data": {
      "text/plain": [
       "((10127, 10), (10127,))"
      ]
     },
     "execution_count": 102,
     "metadata": {},
     "output_type": "execute_result"
    }
   ],
   "source": [
    "#viewing coloum x rows\n",
    "A.shape,B.shape"
   ]
  },
  {
   "cell_type": "code",
   "execution_count": 103,
   "metadata": {},
   "outputs": [],
   "source": [
    "#split data with 80/20 ratio\n",
    "A_train,A_test,B_train,B_test= train_test_split(A,B,test_size=0.2,stratify=y,random_state=134)"
   ]
  },
  {
   "cell_type": "code",
   "execution_count": 104,
   "metadata": {},
   "outputs": [
    {
     "name": "stdout",
     "output_type": "stream",
     "text": [
      "Number transactions A_train dataset:  (8101, 10)\n",
      "Number transactions B_train dataset:  (8101,)\n",
      "Number transactions A_test dataset:  (2026, 10)\n",
      "Number transactions B_test dataset:  (2026,)\n"
     ]
    }
   ],
   "source": [
    "#result of data split\n",
    "print(\"Number transactions A_train dataset: \", A_train.shape)\n",
    "print(\"Number transactions B_train dataset: \", B_train.shape)\n",
    "print(\"Number transactions A_test dataset: \", A_test.shape)\n",
    "print(\"Number transactions B_test dataset: \", B_test.shape)"
   ]
  },
  {
   "cell_type": "code",
   "execution_count": 105,
   "metadata": {},
   "outputs": [],
   "source": [
    "#defining SMOTE and its identifiers\n",
    "sm = SMOTE(sampling_strategy='auto', k_neighbors=5, random_state=1001)"
   ]
  },
  {
   "cell_type": "code",
   "execution_count": 106,
   "metadata": {},
   "outputs": [
    {
     "name": "stdout",
     "output_type": "stream",
     "text": [
      "Resampled data Counter({1: 6799, 0: 6799})\n"
     ]
    }
   ],
   "source": [
    "#smote oversampling\n",
    "A_train_res, B_train_res = sm.fit_resample(A_train, B_train.ravel())\n",
    "print('Resampled data {}'.format(Counter(B_train_res)))"
   ]
  },
  {
   "cell_type": "code",
   "execution_count": 107,
   "metadata": {},
   "outputs": [
    {
     "name": "stdout",
     "output_type": "stream",
     "text": [
      "After OverSampling, the shape of train_A: (13598, 10)\n",
      "After OverSampling, the shape of train_B: (13598,) \n",
      "\n",
      "Before OverSampling, counts of label '1': 6799\n",
      "Before OverSampling, counts of label '0': 1302\n",
      "\n",
      "After OverSampling, counts of label '1': 6799\n",
      "After OverSampling, counts of label '0': 6799\n"
     ]
    }
   ],
   "source": [
    "#result before and after oversampling\n",
    "print('After OverSampling, the shape of train_A: {}'.format(A_train_res.shape)) \n",
    "print('After OverSampling, the shape of train_B: {} \\n'.format(B_train_res.shape))\n",
    "\n",
    "print(\"Before OverSampling, counts of label '1': {}\".format(sum(B_train== 1))) \n",
    "print(\"Before OverSampling, counts of label '0': {}\\n\".format(sum(B_train== 0))) \n",
    "  \n",
    "print(\"After OverSampling, counts of label '1': {}\".format(sum(B_train_res == 1))) \n",
    "print(\"After OverSampling, counts of label '0': {}\".format(sum(B_train_res == 0))) "
   ]
  },
  {
   "cell_type": "code",
   "execution_count": 108,
   "metadata": {},
   "outputs": [],
   "source": [
    "#creating df for oversampled data\n",
    "df1=pd.DataFrame(A_train_res,columns=['Dependent_count','Marital_Status','Education_Level','Income_Category','Total_Relationship_Count','Months_Inactive_12_mon','Contacts_Count_12_mon',\\\n",
    "                            'Credit_Limit','Total_Revolving_Bal','Total_Trans_Ct','Total_Ct_Chng_Q4_Q1'])\n",
    "df2=pd.DataFrame(B_train_res,columns=['Attrition_Flag'])"
   ]
  },
  {
   "cell_type": "code",
   "execution_count": 109,
   "metadata": {},
   "outputs": [],
   "source": [
    "# combined both df \n",
    "#Combined = [df1,df2]\n",
    "smotedata = df1.combine_first(df2)"
   ]
  },
  {
   "cell_type": "code",
   "execution_count": 110,
   "metadata": {},
   "outputs": [],
   "source": [
    "#converting to spark df\n",
    "smotedf= spark.createDataFrame(smotedata)"
   ]
  },
  {
   "cell_type": "code",
   "execution_count": 115,
   "metadata": {},
   "outputs": [
    {
     "data": {
      "text/html": [
       "<div>\n",
       "<style scoped>\n",
       "    .dataframe tbody tr th:only-of-type {\n",
       "        vertical-align: middle;\n",
       "    }\n",
       "\n",
       "    .dataframe tbody tr th {\n",
       "        vertical-align: top;\n",
       "    }\n",
       "\n",
       "    .dataframe thead th {\n",
       "        text-align: right;\n",
       "    }\n",
       "</style>\n",
       "<table border=\"1\" class=\"dataframe\">\n",
       "  <thead>\n",
       "    <tr style=\"text-align: right;\">\n",
       "      <th></th>\n",
       "      <th>Attrition_Flag</th>\n",
       "      <th>count</th>\n",
       "    </tr>\n",
       "  </thead>\n",
       "  <tbody>\n",
       "    <tr>\n",
       "      <th>0</th>\n",
       "      <td>0.0</td>\n",
       "      <td>6799</td>\n",
       "    </tr>\n",
       "    <tr>\n",
       "      <th>1</th>\n",
       "      <td>1.0</td>\n",
       "      <td>6799</td>\n",
       "    </tr>\n",
       "  </tbody>\n",
       "</table>\n",
       "</div>"
      ],
      "text/plain": [
       "   Attrition_Flag  count\n",
       "0             0.0   6799\n",
       "1             1.0   6799"
      ]
     },
     "execution_count": 115,
     "metadata": {},
     "output_type": "execute_result"
    }
   ],
   "source": [
    "#grouping oversampled data by target value\n",
    "smotetarget =smotedf.groupby(\"Attrition_Flag\").count().orderBy(\"count\")\n",
    "smotetarget.toPandas()"
   ]
  },
  {
   "cell_type": "code",
   "execution_count": 112,
   "metadata": {
    "pixiedust": {
     "displayParams": {
      "handlerId": "barChart",
      "keyFields": "Attrition_Flag",
      "title": "Target variable after oversampling",
      "valueFields": "count"
     }
    }
   },
   "outputs": [
    {
     "data": {
      "text/html": [
       "<style type=\"text/css\">.pd_warning{display:none;}</style><div class=\"pd_warning\"><em>Hey, there's something awesome here! To see it, open this notebook outside GitHub, in a viewer like Jupyter</em></div>\n",
       "        <div class=\"pd_save is-viewer-good\" style=\"padding-right:10px;text-align: center;line-height:initial !important;font-size: xx-large;font-weight: 500;color: coral;\">\n",
       "            Target variable after oversampling\n",
       "        </div>\n",
       "    <div id=\"chartFigurebcc8df72\" class=\"pd_save is-viewer-good\" style=\"overflow-x:auto\">\n",
       "            \n",
       "                    \n",
       "                            <center><img style=\"max-width:initial !important\" src=\"data:image/png;base64,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\" class=\"pd_save\"></center>\n",
       "                        \n",
       "                    \n",
       "                \n",
       "        </div>"
      ],
      "text/plain": [
       "<IPython.core.display.HTML object>"
      ]
     },
     "metadata": {},
     "output_type": "display_data"
    }
   ],
   "source": [
    "#Visualisation\n",
    "display(smotetarget)"
   ]
  },
  {
   "cell_type": "markdown",
   "metadata": {},
   "source": [
    "### Data Models"
   ]
  },
  {
   "cell_type": "code",
   "execution_count": 117,
   "metadata": {},
   "outputs": [],
   "source": [
    "### libraries\n",
    "from sklearn.linear_model import LogisticRegression\n",
    "from sklearn.neural_network import MLPClassifier\n",
    "from sklearn.tree import DecisionTreeClassifier\n",
    "from sklearn.ensemble import RandomForestClassifier\n",
    "from sklearn.metrics import accuracy_score,classification_report\n",
    "from sklearn.model_selection import cross_val_score\n",
    "from sklearn.model_selection import GridSearchCV\n",
    "from sklearn.metrics import roc_auc_score\n",
    "from sklearn.metrics import roc_curve\n"
   ]
  },
  {
   "cell_type": "markdown",
   "metadata": {},
   "source": [
    "### LOGISTIC REGRESSION"
   ]
  },
  {
   "cell_type": "code",
   "execution_count": 86,
   "metadata": {},
   "outputs": [],
   "source": [
    "# logistic regression cross validation with 5 kfolds\n",
    "lr= LogisticRegression()\n",
    "lrscore = cross_val_score(lr,A_train,B_train,cv=5)\n",
    "lrsmotescore = cross_val_score(lr,A_train_res,B_train_res,cv=5)\n"
   ]
  },
  {
   "cell_type": "code",
   "execution_count": 87,
   "metadata": {},
   "outputs": [
    {
     "data": {
      "text/plain": [
       "array([0.89636027, 0.89259259, 0.8845679 , 0.87839506, 0.88395062])"
      ]
     },
     "execution_count": 87,
     "metadata": {},
     "output_type": "execute_result"
    }
   ],
   "source": [
    "## cross validation result for original data\n",
    "lrscore"
   ]
  },
  {
   "cell_type": "code",
   "execution_count": 88,
   "metadata": {},
   "outputs": [
    {
     "data": {
      "text/plain": [
       "array([0.80330882, 0.77610294, 0.77205882, 0.77528503, 0.76057374])"
      ]
     },
     "execution_count": 88,
     "metadata": {},
     "output_type": "execute_result"
    }
   ],
   "source": [
    "## cross validation result for oversampled data\n",
    "lrsmotescore "
   ]
  },
  {
   "cell_type": "code",
   "execution_count": 89,
   "metadata": {},
   "outputs": [],
   "source": [
    "## defining results in order to print results for hyper parameter tuning \n",
    "def print_results(results):\n",
    "    print('BEST PARAMS:{}\\n'.format(results.best_params_))\n",
    "    means = results.cv_results_['mean_test_score']\n",
    "    stdd  = results.cv_results_['std_test_score']\n",
    "    for mean,std,params in zip(means,stdd,results.cv_results_['params']):\n",
    "        print('{} (+/-{}) for {}'. format(round(mean,3),round(std * 2,3),params))\n"
   ]
  },
  {
   "cell_type": "code",
   "execution_count": 90,
   "metadata": {},
   "outputs": [],
   "source": [
    "##hyper parameter tuning \n",
    "parameters= {\n",
    "        'solver':['liblinear','sag','saga','lbfgs'],\n",
    "        'penalty':['l1','l2','elasticnet'],\n",
    "        'C':[0.1,1,10] }\n",
    "cv1= GridSearchCV(lr,parameters, cv=5)"
   ]
  },
  {
   "cell_type": "code",
   "execution_count": 91,
   "metadata": {},
   "outputs": [
    {
     "name": "stdout",
     "output_type": "stream",
     "text": [
      "BEST PARAMS:{'C': 1, 'penalty': 'l1', 'solver': 'liblinear'}\n",
      "\n",
      "0.896 (+/-0.013) for {'C': 0.1, 'penalty': 'l1', 'solver': 'liblinear'}\n",
      "nan (+/-nan) for {'C': 0.1, 'penalty': 'l1', 'solver': 'sag'}\n",
      "0.839 (+/-0.001) for {'C': 0.1, 'penalty': 'l1', 'solver': 'saga'}\n",
      "nan (+/-nan) for {'C': 0.1, 'penalty': 'l1', 'solver': 'lbfgs'}\n",
      "0.888 (+/-0.014) for {'C': 0.1, 'penalty': 'l2', 'solver': 'liblinear'}\n",
      "0.839 (+/-0.001) for {'C': 0.1, 'penalty': 'l2', 'solver': 'sag'}\n",
      "0.839 (+/-0.001) for {'C': 0.1, 'penalty': 'l2', 'solver': 'saga'}\n",
      "0.887 (+/-0.013) for {'C': 0.1, 'penalty': 'l2', 'solver': 'lbfgs'}\n",
      "nan (+/-nan) for {'C': 0.1, 'penalty': 'elasticnet', 'solver': 'liblinear'}\n",
      "nan (+/-nan) for {'C': 0.1, 'penalty': 'elasticnet', 'solver': 'sag'}\n",
      "nan (+/-nan) for {'C': 0.1, 'penalty': 'elasticnet', 'solver': 'saga'}\n",
      "nan (+/-nan) for {'C': 0.1, 'penalty': 'elasticnet', 'solver': 'lbfgs'}\n",
      "0.898 (+/-0.011) for {'C': 1, 'penalty': 'l1', 'solver': 'liblinear'}\n",
      "nan (+/-nan) for {'C': 1, 'penalty': 'l1', 'solver': 'sag'}\n",
      "0.839 (+/-0.001) for {'C': 1, 'penalty': 'l1', 'solver': 'saga'}\n",
      "nan (+/-nan) for {'C': 1, 'penalty': 'l1', 'solver': 'lbfgs'}\n",
      "0.888 (+/-0.015) for {'C': 1, 'penalty': 'l2', 'solver': 'liblinear'}\n",
      "0.839 (+/-0.001) for {'C': 1, 'penalty': 'l2', 'solver': 'sag'}\n",
      "0.839 (+/-0.001) for {'C': 1, 'penalty': 'l2', 'solver': 'saga'}\n",
      "0.887 (+/-0.013) for {'C': 1, 'penalty': 'l2', 'solver': 'lbfgs'}\n",
      "nan (+/-nan) for {'C': 1, 'penalty': 'elasticnet', 'solver': 'liblinear'}\n",
      "nan (+/-nan) for {'C': 1, 'penalty': 'elasticnet', 'solver': 'sag'}\n",
      "nan (+/-nan) for {'C': 1, 'penalty': 'elasticnet', 'solver': 'saga'}\n",
      "nan (+/-nan) for {'C': 1, 'penalty': 'elasticnet', 'solver': 'lbfgs'}\n",
      "0.898 (+/-0.01) for {'C': 10, 'penalty': 'l1', 'solver': 'liblinear'}\n",
      "nan (+/-nan) for {'C': 10, 'penalty': 'l1', 'solver': 'sag'}\n",
      "0.839 (+/-0.001) for {'C': 10, 'penalty': 'l1', 'solver': 'saga'}\n",
      "nan (+/-nan) for {'C': 10, 'penalty': 'l1', 'solver': 'lbfgs'}\n",
      "0.888 (+/-0.015) for {'C': 10, 'penalty': 'l2', 'solver': 'liblinear'}\n",
      "0.839 (+/-0.001) for {'C': 10, 'penalty': 'l2', 'solver': 'sag'}\n",
      "0.839 (+/-0.001) for {'C': 10, 'penalty': 'l2', 'solver': 'saga'}\n",
      "0.887 (+/-0.011) for {'C': 10, 'penalty': 'l2', 'solver': 'lbfgs'}\n",
      "nan (+/-nan) for {'C': 10, 'penalty': 'elasticnet', 'solver': 'liblinear'}\n",
      "nan (+/-nan) for {'C': 10, 'penalty': 'elasticnet', 'solver': 'sag'}\n",
      "nan (+/-nan) for {'C': 10, 'penalty': 'elasticnet', 'solver': 'saga'}\n",
      "nan (+/-nan) for {'C': 10, 'penalty': 'elasticnet', 'solver': 'lbfgs'}\n"
     ]
    }
   ],
   "source": [
    "## fit original data for tuning\n",
    "cv1.fit(A_train,B_train)\n",
    "print_results(cv1)"
   ]
  },
  {
   "cell_type": "code",
   "execution_count": 92,
   "metadata": {},
   "outputs": [
    {
     "name": "stdout",
     "output_type": "stream",
     "text": [
      "BEST PARAMS:{'C': 0.1, 'penalty': 'l1', 'solver': 'liblinear'}\n",
      "\n",
      "0.838 (+/-0.028) for {'C': 0.1, 'penalty': 'l1', 'solver': 'liblinear'}\n",
      "nan (+/-nan) for {'C': 0.1, 'penalty': 'l1', 'solver': 'sag'}\n",
      "0.582 (+/-0.008) for {'C': 0.1, 'penalty': 'l1', 'solver': 'saga'}\n",
      "nan (+/-nan) for {'C': 0.1, 'penalty': 'l1', 'solver': 'lbfgs'}\n",
      "0.835 (+/-0.02) for {'C': 0.1, 'penalty': 'l2', 'solver': 'liblinear'}\n",
      "0.569 (+/-0.011) for {'C': 0.1, 'penalty': 'l2', 'solver': 'sag'}\n",
      "0.582 (+/-0.008) for {'C': 0.1, 'penalty': 'l2', 'solver': 'saga'}\n",
      "0.777 (+/-0.03) for {'C': 0.1, 'penalty': 'l2', 'solver': 'lbfgs'}\n",
      "nan (+/-nan) for {'C': 0.1, 'penalty': 'elasticnet', 'solver': 'liblinear'}\n",
      "nan (+/-nan) for {'C': 0.1, 'penalty': 'elasticnet', 'solver': 'sag'}\n",
      "nan (+/-nan) for {'C': 0.1, 'penalty': 'elasticnet', 'solver': 'saga'}\n",
      "nan (+/-nan) for {'C': 0.1, 'penalty': 'elasticnet', 'solver': 'lbfgs'}\n",
      "0.837 (+/-0.03) for {'C': 1, 'penalty': 'l1', 'solver': 'liblinear'}\n",
      "nan (+/-nan) for {'C': 1, 'penalty': 'l1', 'solver': 'sag'}\n",
      "0.582 (+/-0.008) for {'C': 1, 'penalty': 'l1', 'solver': 'saga'}\n",
      "nan (+/-nan) for {'C': 1, 'penalty': 'l1', 'solver': 'lbfgs'}\n",
      "0.838 (+/-0.029) for {'C': 1, 'penalty': 'l2', 'solver': 'liblinear'}\n",
      "0.569 (+/-0.011) for {'C': 1, 'penalty': 'l2', 'solver': 'sag'}\n",
      "0.582 (+/-0.008) for {'C': 1, 'penalty': 'l2', 'solver': 'saga'}\n",
      "0.777 (+/-0.028) for {'C': 1, 'penalty': 'l2', 'solver': 'lbfgs'}\n",
      "nan (+/-nan) for {'C': 1, 'penalty': 'elasticnet', 'solver': 'liblinear'}\n",
      "nan (+/-nan) for {'C': 1, 'penalty': 'elasticnet', 'solver': 'sag'}\n",
      "nan (+/-nan) for {'C': 1, 'penalty': 'elasticnet', 'solver': 'saga'}\n",
      "nan (+/-nan) for {'C': 1, 'penalty': 'elasticnet', 'solver': 'lbfgs'}\n",
      "0.837 (+/-0.03) for {'C': 10, 'penalty': 'l1', 'solver': 'liblinear'}\n",
      "nan (+/-nan) for {'C': 10, 'penalty': 'l1', 'solver': 'sag'}\n",
      "0.582 (+/-0.008) for {'C': 10, 'penalty': 'l1', 'solver': 'saga'}\n",
      "nan (+/-nan) for {'C': 10, 'penalty': 'l1', 'solver': 'lbfgs'}\n",
      "0.838 (+/-0.029) for {'C': 10, 'penalty': 'l2', 'solver': 'liblinear'}\n",
      "0.569 (+/-0.011) for {'C': 10, 'penalty': 'l2', 'solver': 'sag'}\n",
      "0.582 (+/-0.008) for {'C': 10, 'penalty': 'l2', 'solver': 'saga'}\n",
      "0.779 (+/-0.03) for {'C': 10, 'penalty': 'l2', 'solver': 'lbfgs'}\n",
      "nan (+/-nan) for {'C': 10, 'penalty': 'elasticnet', 'solver': 'liblinear'}\n",
      "nan (+/-nan) for {'C': 10, 'penalty': 'elasticnet', 'solver': 'sag'}\n",
      "nan (+/-nan) for {'C': 10, 'penalty': 'elasticnet', 'solver': 'saga'}\n",
      "nan (+/-nan) for {'C': 10, 'penalty': 'elasticnet', 'solver': 'lbfgs'}\n"
     ]
    }
   ],
   "source": [
    "#cv2 overwrite cv1\n",
    "## fit oversampled data for tuning \n",
    "cv2= GridSearchCV(lr,parameters, cv=5)\n",
    "cv2.fit(A_train_res,B_train_res)\n",
    "print_results(cv2)"
   ]
  },
  {
   "cell_type": "code",
   "execution_count": 93,
   "metadata": {},
   "outputs": [
    {
     "name": "stdout",
     "output_type": "stream",
     "text": [
      "Accuracy  0.8948667324777887\n",
      "              precision    recall  f1-score   support\n",
      "\n",
      "           0       0.78      0.48      0.59       325\n",
      "           1       0.91      0.97      0.94      1701\n",
      "\n",
      "    accuracy                           0.89      2026\n",
      "   macro avg       0.84      0.73      0.77      2026\n",
      "weighted avg       0.89      0.89      0.88      2026\n",
      "\n"
     ]
    }
   ],
   "source": [
    "##Logistic regression without SMOTE\n",
    "model1 = LogisticRegression(random_state=101, penalty='l1',solver='liblinear',C=1.0)\n",
    "model1.fit(A_train,B_train)\n",
    "pred1 = model1.predict(A_test)\n",
    "print('Accuracy ',accuracy_score(B_test,pred1))\n",
    "print(classification_report(B_test,pred1))\n"
   ]
  },
  {
   "cell_type": "code",
   "execution_count": 94,
   "metadata": {},
   "outputs": [
    {
     "data": {
      "text/plain": [
       "0.7258219147108036"
      ]
     },
     "execution_count": 94,
     "metadata": {},
     "output_type": "execute_result"
    }
   ],
   "source": [
    "## auc score for lr model without smote\n",
    "auc_scorelr1 = roc_auc_score(B_test, pred1)\n",
    "auc_scorelr1"
   ]
  },
  {
   "cell_type": "code",
   "execution_count": 95,
   "metadata": {},
   "outputs": [],
   "source": [
    "#(A.columns,model1.coef_)"
   ]
  },
  {
   "cell_type": "code",
   "execution_count": 119,
   "metadata": {},
   "outputs": [
    {
     "name": "stdout",
     "output_type": "stream",
     "text": [
      "Accuracy  0.8297137216189536\n",
      "              precision    recall  f1-score   support\n",
      "\n",
      "           0       0.48      0.76      0.59       325\n",
      "           1       0.95      0.84      0.89      1701\n",
      "\n",
      "    accuracy                           0.83      2026\n",
      "   macro avg       0.71      0.80      0.74      2026\n",
      "weighted avg       0.87      0.83      0.84      2026\n",
      "\n"
     ]
    }
   ],
   "source": [
    "##Logistic regression with smote\n",
    "model2 = LogisticRegression(random_state=102, C=0.1,penalty='l1', solver='liblinear' )\n",
    "model2.fit(A_train_res,B_train_res.ravel())\n",
    "pred2 = model2.predict(A_test)\n",
    "print('Accuracy ',accuracy_score(B_test,pred2))\n",
    "print(classification_report(B_test,pred2))\n"
   ]
  },
  {
   "cell_type": "code",
   "execution_count": 97,
   "metadata": {},
   "outputs": [],
   "source": [
    "#(A.columns,model2.coef_)"
   ]
  },
  {
   "cell_type": "code",
   "execution_count": 124,
   "metadata": {},
   "outputs": [
    {
     "data": {
      "text/plain": [
       "0.8027612716501605"
      ]
     },
     "execution_count": 124,
     "metadata": {},
     "output_type": "execute_result"
    }
   ],
   "source": [
    "## auc score for lr model with smote\n",
    "auc_scorelr2 = roc_auc_score(B_test, pred2)\n",
    "auc_scorelr2"
   ]
  },
  {
   "cell_type": "markdown",
   "metadata": {},
   "source": [
    "#### DECISION TREE"
   ]
  },
  {
   "cell_type": "code",
   "execution_count": 99,
   "metadata": {},
   "outputs": [],
   "source": [
    "# Decision tree cross validation with 5 kfolds\n",
    "DT= DecisionTreeClassifier()\n",
    "DTscore = cross_val_score(DT,A_train,B_train,cv=5)\n",
    "DTsmotescore = cross_val_score(DT,A_train_res,B_train_res,cv=5)"
   ]
  },
  {
   "cell_type": "code",
   "execution_count": 100,
   "metadata": {},
   "outputs": [
    {
     "data": {
      "text/plain": [
       "array([0.89944479, 0.88395062, 0.90555556, 0.87283951, 0.88024691])"
      ]
     },
     "execution_count": 100,
     "metadata": {},
     "output_type": "execute_result"
    }
   ],
   "source": [
    "#cross validation result for original data\n",
    "DTscore"
   ]
  },
  {
   "cell_type": "code",
   "execution_count": 101,
   "metadata": {},
   "outputs": [
    {
     "data": {
      "text/plain": [
       "array([0.84154412, 0.89742647, 0.90919118, 0.89922766, 0.9025377 ])"
      ]
     },
     "execution_count": 101,
     "metadata": {},
     "output_type": "execute_result"
    }
   ],
   "source": [
    "# cross validation result for oversampled data\n",
    "DTsmotescore"
   ]
  },
  {
   "cell_type": "code",
   "execution_count": 102,
   "metadata": {},
   "outputs": [],
   "source": [
    "##hyper parameter tuning \n",
    "parameters2= {\n",
    "        'criterion':['gini','entropy'],\n",
    "        'max_depth':[5,10,15,50, None]\n",
    "         }"
   ]
  },
  {
   "cell_type": "code",
   "execution_count": 103,
   "metadata": {},
   "outputs": [
    {
     "name": "stdout",
     "output_type": "stream",
     "text": [
      "BEST PARAMS:{'criterion': 'gini', 'max_depth': 5}\n",
      "\n",
      "0.914 (+/-0.012) for {'criterion': 'gini', 'max_depth': 5}\n",
      "0.902 (+/-0.021) for {'criterion': 'gini', 'max_depth': 10}\n",
      "0.891 (+/-0.019) for {'criterion': 'gini', 'max_depth': 15}\n",
      "0.89 (+/-0.022) for {'criterion': 'gini', 'max_depth': 50}\n",
      "0.891 (+/-0.023) for {'criterion': 'gini', 'max_depth': None}\n",
      "0.913 (+/-0.015) for {'criterion': 'entropy', 'max_depth': 5}\n",
      "0.907 (+/-0.01) for {'criterion': 'entropy', 'max_depth': 10}\n",
      "0.893 (+/-0.012) for {'criterion': 'entropy', 'max_depth': 15}\n",
      "0.89 (+/-0.012) for {'criterion': 'entropy', 'max_depth': 50}\n",
      "0.892 (+/-0.011) for {'criterion': 'entropy', 'max_depth': None}\n"
     ]
    }
   ],
   "source": [
    "## fit original data for tuning \n",
    "DT1 = GridSearchCV(DT,parameters2, cv=5)\n",
    "DT1.fit(A_train,B_train)\n",
    "print_results(DT1)"
   ]
  },
  {
   "cell_type": "code",
   "execution_count": 104,
   "metadata": {},
   "outputs": [
    {
     "name": "stdout",
     "output_type": "stream",
     "text": [
      "BEST PARAMS:{'criterion': 'entropy', 'max_depth': None}\n",
      "\n",
      "0.865 (+/-0.03) for {'criterion': 'gini', 'max_depth': 5}\n",
      "0.89 (+/-0.04) for {'criterion': 'gini', 'max_depth': 10}\n",
      "0.891 (+/-0.044) for {'criterion': 'gini', 'max_depth': 15}\n",
      "0.892 (+/-0.043) for {'criterion': 'gini', 'max_depth': 50}\n",
      "0.892 (+/-0.048) for {'criterion': 'gini', 'max_depth': None}\n",
      "0.865 (+/-0.03) for {'criterion': 'entropy', 'max_depth': 5}\n",
      "0.887 (+/-0.047) for {'criterion': 'entropy', 'max_depth': 10}\n",
      "0.896 (+/-0.047) for {'criterion': 'entropy', 'max_depth': 15}\n",
      "0.9 (+/-0.052) for {'criterion': 'entropy', 'max_depth': 50}\n",
      "0.902 (+/-0.046) for {'criterion': 'entropy', 'max_depth': None}\n"
     ]
    }
   ],
   "source": [
    "#DT2 overwrite DT1\n",
    "## fit oversampled data for tuning\n",
    "DT2= GridSearchCV(DT,parameters2, cv=5)\n",
    "DT2.fit(A_train_res,B_train_res)\n",
    "print_results(DT2)"
   ]
  },
  {
   "cell_type": "code",
   "execution_count": 105,
   "metadata": {},
   "outputs": [
    {
     "name": "stdout",
     "output_type": "stream",
     "text": [
      "Accuracy  0.9106614017769002\n",
      "              precision    recall  f1-score   support\n",
      "\n",
      "           0       0.75      0.66      0.70       325\n",
      "           1       0.94      0.96      0.95      1701\n",
      "\n",
      "    accuracy                           0.91      2026\n",
      "   macro avg       0.84      0.81      0.83      2026\n",
      "weighted avg       0.91      0.91      0.91      2026\n",
      "\n"
     ]
    }
   ],
   "source": [
    "##Decision tree without SMOTE\n",
    "model3 = DecisionTreeClassifier(random_state=103,criterion='gini',max_depth=5)\n",
    "model3.fit(A_train,B_train)\n",
    "pred3 = model3.predict(A_test)\n",
    "print('Accuracy ',accuracy_score(B_test,pred3))\n",
    "print(classification_report(B_test,pred3))"
   ]
  },
  {
   "cell_type": "code",
   "execution_count": 106,
   "metadata": {},
   "outputs": [
    {
     "data": {
      "text/plain": [
       "0.8098991543435988"
      ]
     },
     "execution_count": 106,
     "metadata": {},
     "output_type": "execute_result"
    }
   ],
   "source": [
    "## auc score original data\n",
    "auc_scoredt1 = roc_auc_score(B_test, pred3)\n",
    "auc_scoredt1"
   ]
  },
  {
   "cell_type": "code",
   "execution_count": 107,
   "metadata": {},
   "outputs": [],
   "source": [
    "#m3=list(zip(A.columns,model3.feature_importances_))\n",
    "#sorted(m3)"
   ]
  },
  {
   "cell_type": "code",
   "execution_count": 120,
   "metadata": {},
   "outputs": [
    {
     "name": "stdout",
     "output_type": "stream",
     "text": [
      "Accuracy  0.8780848963474828\n",
      "              precision    recall  f1-score   support\n",
      "\n",
      "           0       0.60      0.75      0.66       325\n",
      "           1       0.95      0.90      0.93      1701\n",
      "\n",
      "    accuracy                           0.88      2026\n",
      "   macro avg       0.77      0.83      0.79      2026\n",
      "weighted avg       0.89      0.88      0.88      2026\n",
      "\n"
     ]
    }
   ],
   "source": [
    "##Decision tree with SMOTE\n",
    "model4 = DecisionTreeClassifier(random_state=114,criterion='entropy',max_depth=None)\n",
    "model4.fit(A_train_res,B_train_res.ravel())\n",
    "pred4 = model4.predict(A_test)\n",
    "print('Accuracy ',accuracy_score(B_test,pred4))\n",
    "print(classification_report(B_test,pred4))"
   ]
  },
  {
   "cell_type": "code",
   "execution_count": 123,
   "metadata": {},
   "outputs": [
    {
     "data": {
      "text/plain": [
       "0.8265897888120111"
      ]
     },
     "execution_count": 123,
     "metadata": {},
     "output_type": "execute_result"
    }
   ],
   "source": [
    "## auc score oversampled data\n",
    "auc_scoredt2 = roc_auc_score(B_test, pred4)\n",
    "auc_scoredt2"
   ]
  },
  {
   "cell_type": "code",
   "execution_count": 110,
   "metadata": {},
   "outputs": [],
   "source": [
    "#m4=list(zip(A.columns,model4.feature_importances_))\n",
    "#sorted(m4)"
   ]
  },
  {
   "cell_type": "markdown",
   "metadata": {},
   "source": [
    "### RANDOM FOREST "
   ]
  },
  {
   "cell_type": "code",
   "execution_count": 111,
   "metadata": {},
   "outputs": [],
   "source": [
    "# Random forest cross validation with 5 kfolds\n",
    "RF= RandomForestClassifier()\n",
    "RFscore = cross_val_score(RF,A_train,B_train,cv=5)\n",
    "RFsmotescore = cross_val_score(RF,A_train_res,B_train_res,cv=5)"
   ]
  },
  {
   "cell_type": "code",
   "execution_count": 112,
   "metadata": {},
   "outputs": [
    {
     "data": {
      "text/plain": [
       "array([0.92782233, 0.93641975, 0.92407407, 0.92407407, 0.92962963])"
      ]
     },
     "execution_count": 112,
     "metadata": {},
     "output_type": "execute_result"
    }
   ],
   "source": [
    "#cross validation results for original data\n",
    "RFscore "
   ]
  },
  {
   "cell_type": "code",
   "execution_count": 113,
   "metadata": {},
   "outputs": [
    {
     "data": {
      "text/plain": [
       "array([0.88235294, 0.94264706, 0.95404412, 0.93710923, 0.94520044])"
      ]
     },
     "execution_count": 113,
     "metadata": {},
     "output_type": "execute_result"
    }
   ],
   "source": [
    "#cross validation results for oversampled data\n",
    "RFsmotescore"
   ]
  },
  {
   "cell_type": "code",
   "execution_count": 114,
   "metadata": {},
   "outputs": [],
   "source": [
    "##hyper parameter tuning \n",
    "parameters2= {\n",
    "        'criterion':['gini','entropy'],\n",
    "        'n_estimators':[5,50,100],\n",
    "        'max_depth':[2,10,20, None]\n",
    "         }"
   ]
  },
  {
   "cell_type": "code",
   "execution_count": 115,
   "metadata": {},
   "outputs": [
    {
     "name": "stdout",
     "output_type": "stream",
     "text": [
      "BEST PARAMS:{'criterion': 'gini', 'max_depth': None, 'n_estimators': 50}\n",
      "\n",
      "0.865 (+/-0.026) for {'criterion': 'gini', 'max_depth': 2, 'n_estimators': 5}\n",
      "0.865 (+/-0.009) for {'criterion': 'gini', 'max_depth': 2, 'n_estimators': 50}\n",
      "0.873 (+/-0.016) for {'criterion': 'gini', 'max_depth': 2, 'n_estimators': 100}\n",
      "0.922 (+/-0.014) for {'criterion': 'gini', 'max_depth': 10, 'n_estimators': 5}\n",
      "0.927 (+/-0.013) for {'criterion': 'gini', 'max_depth': 10, 'n_estimators': 50}\n",
      "0.927 (+/-0.009) for {'criterion': 'gini', 'max_depth': 10, 'n_estimators': 100}\n",
      "0.915 (+/-0.007) for {'criterion': 'gini', 'max_depth': 20, 'n_estimators': 5}\n",
      "0.929 (+/-0.01) for {'criterion': 'gini', 'max_depth': 20, 'n_estimators': 50}\n",
      "0.93 (+/-0.009) for {'criterion': 'gini', 'max_depth': 20, 'n_estimators': 100}\n",
      "0.916 (+/-0.008) for {'criterion': 'gini', 'max_depth': None, 'n_estimators': 5}\n",
      "0.93 (+/-0.012) for {'criterion': 'gini', 'max_depth': None, 'n_estimators': 50}\n",
      "0.93 (+/-0.01) for {'criterion': 'gini', 'max_depth': None, 'n_estimators': 100}\n",
      "0.862 (+/-0.034) for {'criterion': 'entropy', 'max_depth': 2, 'n_estimators': 5}\n",
      "0.871 (+/-0.012) for {'criterion': 'entropy', 'max_depth': 2, 'n_estimators': 50}\n",
      "0.863 (+/-0.014) for {'criterion': 'entropy', 'max_depth': 2, 'n_estimators': 100}\n",
      "0.919 (+/-0.005) for {'criterion': 'entropy', 'max_depth': 10, 'n_estimators': 5}\n",
      "0.928 (+/-0.01) for {'criterion': 'entropy', 'max_depth': 10, 'n_estimators': 50}\n",
      "0.927 (+/-0.01) for {'criterion': 'entropy', 'max_depth': 10, 'n_estimators': 100}\n",
      "0.918 (+/-0.007) for {'criterion': 'entropy', 'max_depth': 20, 'n_estimators': 5}\n",
      "0.93 (+/-0.01) for {'criterion': 'entropy', 'max_depth': 20, 'n_estimators': 50}\n",
      "0.93 (+/-0.011) for {'criterion': 'entropy', 'max_depth': 20, 'n_estimators': 100}\n",
      "0.913 (+/-0.013) for {'criterion': 'entropy', 'max_depth': None, 'n_estimators': 5}\n",
      "0.93 (+/-0.009) for {'criterion': 'entropy', 'max_depth': None, 'n_estimators': 50}\n",
      "0.93 (+/-0.007) for {'criterion': 'entropy', 'max_depth': None, 'n_estimators': 100}\n"
     ]
    }
   ],
   "source": [
    "#fit original data for tuning\n",
    "RF1 = GridSearchCV(RF,parameters2, cv=5)\n",
    "RF1.fit(A_train,B_train)\n",
    "print_results(RF1)"
   ]
  },
  {
   "cell_type": "code",
   "execution_count": 116,
   "metadata": {},
   "outputs": [
    {
     "name": "stdout",
     "output_type": "stream",
     "text": [
      "BEST PARAMS:{'criterion': 'entropy', 'max_depth': None, 'n_estimators': 50}\n",
      "\n",
      "0.815 (+/-0.029) for {'criterion': 'gini', 'max_depth': 2, 'n_estimators': 5}\n",
      "0.843 (+/-0.02) for {'criterion': 'gini', 'max_depth': 2, 'n_estimators': 50}\n",
      "0.845 (+/-0.023) for {'criterion': 'gini', 'max_depth': 2, 'n_estimators': 100}\n",
      "0.905 (+/-0.053) for {'criterion': 'gini', 'max_depth': 10, 'n_estimators': 5}\n",
      "0.916 (+/-0.057) for {'criterion': 'gini', 'max_depth': 10, 'n_estimators': 50}\n",
      "0.917 (+/-0.055) for {'criterion': 'gini', 'max_depth': 10, 'n_estimators': 100}\n",
      "0.915 (+/-0.057) for {'criterion': 'gini', 'max_depth': 20, 'n_estimators': 5}\n",
      "0.93 (+/-0.054) for {'criterion': 'gini', 'max_depth': 20, 'n_estimators': 50}\n",
      "0.932 (+/-0.052) for {'criterion': 'gini', 'max_depth': 20, 'n_estimators': 100}\n",
      "0.911 (+/-0.064) for {'criterion': 'gini', 'max_depth': None, 'n_estimators': 5}\n",
      "0.931 (+/-0.052) for {'criterion': 'gini', 'max_depth': None, 'n_estimators': 50}\n",
      "0.933 (+/-0.049) for {'criterion': 'gini', 'max_depth': None, 'n_estimators': 100}\n",
      "0.812 (+/-0.043) for {'criterion': 'entropy', 'max_depth': 2, 'n_estimators': 5}\n",
      "0.842 (+/-0.029) for {'criterion': 'entropy', 'max_depth': 2, 'n_estimators': 50}\n",
      "0.844 (+/-0.022) for {'criterion': 'entropy', 'max_depth': 2, 'n_estimators': 100}\n",
      "0.904 (+/-0.045) for {'criterion': 'entropy', 'max_depth': 10, 'n_estimators': 5}\n",
      "0.916 (+/-0.053) for {'criterion': 'entropy', 'max_depth': 10, 'n_estimators': 50}\n",
      "0.916 (+/-0.05) for {'criterion': 'entropy', 'max_depth': 10, 'n_estimators': 100}\n",
      "0.916 (+/-0.053) for {'criterion': 'entropy', 'max_depth': 20, 'n_estimators': 5}\n",
      "0.933 (+/-0.048) for {'criterion': 'entropy', 'max_depth': 20, 'n_estimators': 50}\n",
      "0.934 (+/-0.049) for {'criterion': 'entropy', 'max_depth': 20, 'n_estimators': 100}\n",
      "0.918 (+/-0.046) for {'criterion': 'entropy', 'max_depth': None, 'n_estimators': 5}\n",
      "0.934 (+/-0.05) for {'criterion': 'entropy', 'max_depth': None, 'n_estimators': 50}\n",
      "0.932 (+/-0.052) for {'criterion': 'entropy', 'max_depth': None, 'n_estimators': 100}\n"
     ]
    }
   ],
   "source": [
    "## RF2 overwrites RF1\n",
    "## fit oversampled data for tuning \n",
    "RF2= GridSearchCV(RF,parameters2, cv=5)\n",
    "RF2.fit(A_train_res,B_train_res)\n",
    "print_results(RF2)"
   ]
  },
  {
   "cell_type": "code",
   "execution_count": 139,
   "metadata": {},
   "outputs": [
    {
     "name": "stdout",
     "output_type": "stream",
     "text": [
      "Accuracy  0.926949654491609\n",
      "              precision    recall  f1-score   support\n",
      "\n",
      "           0       0.84      0.68      0.75       325\n",
      "           1       0.94      0.97      0.96      1701\n",
      "\n",
      "    accuracy                           0.93      2026\n",
      "   macro avg       0.89      0.83      0.85      2026\n",
      "weighted avg       0.92      0.93      0.92      2026\n",
      "\n"
     ]
    }
   ],
   "source": [
    "##RandomForest without SMOTE\n",
    "model5 = RandomForestClassifier(random_state=105,criterion='gini',max_depth= None,n_estimators= 50)\n",
    "model5.fit(A_train,B_train)\n",
    "pred5 = model5.predict(A_test)\n",
    "print('Accuracy ',accuracy_score(B_test,pred5))\n",
    "print(classification_report(B_test,pred5))"
   ]
  },
  {
   "cell_type": "code",
   "execution_count": 140,
   "metadata": {},
   "outputs": [
    {
     "data": {
      "text/plain": [
       "0.8258219147108037"
      ]
     },
     "execution_count": 140,
     "metadata": {},
     "output_type": "execute_result"
    }
   ],
   "source": [
    "## auc score without smote\n",
    "auc_scorerf1 = roc_auc_score(B_test, pred5)\n",
    "auc_scorerf1"
   ]
  },
  {
   "cell_type": "code",
   "execution_count": 119,
   "metadata": {},
   "outputs": [],
   "source": [
    "#m5=list(zip(A.columns,model5.feature_importances_))\n",
    "#sorted(m5)"
   ]
  },
  {
   "cell_type": "code",
   "execution_count": 121,
   "metadata": {},
   "outputs": [
    {
     "name": "stdout",
     "output_type": "stream",
     "text": [
      "Accuracy  0.9032576505429417\n",
      "              precision    recall  f1-score   support\n",
      "\n",
      "           0       0.67      0.79      0.72       325\n",
      "           1       0.96      0.92      0.94      1701\n",
      "\n",
      "    accuracy                           0.90      2026\n",
      "   macro avg       0.81      0.86      0.83      2026\n",
      "weighted avg       0.91      0.90      0.91      2026\n",
      "\n"
     ]
    }
   ],
   "source": [
    "##RandomForest tree with SMOTE\n",
    "model6 = RandomForestClassifier(random_state=106,criterion='entropy',max_depth= None,n_estimators= 50)\n",
    "model6.fit(A_train_res,B_train_res.ravel())\n",
    "pred6 = model6.predict(A_test)\n",
    "print('Accuracy ',accuracy_score(B_test,pred6))\n",
    "print(classification_report(B_test,pred6))"
   ]
  },
  {
   "cell_type": "code",
   "execution_count": 122,
   "metadata": {},
   "outputs": [
    {
     "data": {
      "text/plain": [
       "0.8590042056708723"
      ]
     },
     "execution_count": 122,
     "metadata": {},
     "output_type": "execute_result"
    }
   ],
   "source": [
    "## auc score with smote\n",
    "auc_scorerf2 = roc_auc_score(B_test, pred6)\n",
    "auc_scorerf2"
   ]
  },
  {
   "cell_type": "code",
   "execution_count": 122,
   "metadata": {},
   "outputs": [
    {
     "data": {
      "text/plain": [
       "[('Contacts_Count_12_mon', 0.03531950076973608),\n",
       " ('Credit_Limit', 0.0853239993714238),\n",
       " ('Dependent_count', 0.02730890765219706),\n",
       " ('Education_Level', 0.03035303434598938),\n",
       " ('Marital_Status', 0.01569209456159687),\n",
       " ('Months_Inactive_12_mon', 0.03613555080029981),\n",
       " ('Total_Ct_Chng_Q4_Q1', 0.1545036037430561),\n",
       " ('Total_Relationship_Count', 0.09888169119997642),\n",
       " ('Total_Revolving_Bal', 0.1923294587940689),\n",
       " ('Total_Trans_Ct', 0.32415215876165565)]"
      ]
     },
     "execution_count": 122,
     "metadata": {},
     "output_type": "execute_result"
    }
   ],
   "source": [
    "#determing the most significant features with the best model\n",
    "m6=list(zip(A.columns,model6.feature_importances_))\n",
    "sorted(m6)"
   ]
  },
  {
   "cell_type": "markdown",
   "metadata": {},
   "source": [
    "### MLP CLASSIFIER"
   ]
  },
  {
   "cell_type": "code",
   "execution_count": 128,
   "metadata": {},
   "outputs": [],
   "source": [
    "## duplicate the train and test data for standardising\n",
    "## Target variable is not standardise because it produces a negative value\n",
    "A_train1= A_train.copy()\n",
    "A_train2 =A_train_res.copy()\n",
    "A_test1 = A_test.copy()"
   ]
  },
  {
   "cell_type": "code",
   "execution_count": 129,
   "metadata": {},
   "outputs": [],
   "source": [
    "#libraries\n",
    "from sklearn.preprocessing import StandardScaler\n",
    "sc = StandardScaler()"
   ]
  },
  {
   "cell_type": "code",
   "execution_count": 130,
   "metadata": {},
   "outputs": [],
   "source": [
    "#standarise values\n",
    "A_trainO=sc.fit_transform(A_train1)\n",
    "A_trainS= sc.fit_transform(A_train2)\n",
    "A_test2= sc.transform(A_test1)"
   ]
  },
  {
   "cell_type": "code",
   "execution_count": 126,
   "metadata": {},
   "outputs": [],
   "source": [
    "# MLP cross validation with 5 kfolds\n",
    "MLP= MLPClassifier()\n",
    "MLPscore = cross_val_score(MLP,A_trainO,B_train,cv=5)\n",
    "MLPsmotescore = cross_val_score(MLP,A_trainS,B_train_res,cv=5)"
   ]
  },
  {
   "cell_type": "code",
   "execution_count": 127,
   "metadata": {},
   "outputs": [
    {
     "data": {
      "text/plain": [
       "array([0.91795188, 0.92530864, 0.92530864, 0.9117284 , 0.92469136])"
      ]
     },
     "execution_count": 127,
     "metadata": {},
     "output_type": "execute_result"
    }
   ],
   "source": [
    "#cross validation results for original data\n",
    "MLPscore"
   ]
  },
  {
   "cell_type": "code",
   "execution_count": 128,
   "metadata": {},
   "outputs": [
    {
     "data": {
      "text/plain": [
       "array([0.83639706, 0.91727941, 0.91911765, 0.91504229, 0.92055903])"
      ]
     },
     "execution_count": 128,
     "metadata": {},
     "output_type": "execute_result"
    }
   ],
   "source": [
    "#cross validation results for oversampled data\n",
    "MLPsmotescore"
   ]
  },
  {
   "cell_type": "code",
   "execution_count": 129,
   "metadata": {},
   "outputs": [],
   "source": [
    "##hyper parameter tuning \n",
    "parameters3= {\n",
    "        'activation': ['tanh', 'relu'],\n",
    "        'solver': ['sgd', 'adam'],\n",
    "        'alpha': [0.0001, 0.05],\n",
    "        'learning_rate': ['constant','adaptive']\n",
    "         }"
   ]
  },
  {
   "cell_type": "code",
   "execution_count": 130,
   "metadata": {
    "scrolled": true
   },
   "outputs": [
    {
     "name": "stdout",
     "output_type": "stream",
     "text": [
      "BEST PARAMS:{'activation': 'tanh', 'alpha': 0.05, 'learning_rate': 'constant', 'solver': 'adam'}\n",
      "\n",
      "0.899 (+/-0.011) for {'activation': 'tanh', 'alpha': 0.0001, 'learning_rate': 'constant', 'solver': 'sgd'}\n",
      "0.921 (+/-0.007) for {'activation': 'tanh', 'alpha': 0.0001, 'learning_rate': 'constant', 'solver': 'adam'}\n",
      "0.898 (+/-0.012) for {'activation': 'tanh', 'alpha': 0.0001, 'learning_rate': 'adaptive', 'solver': 'sgd'}\n",
      "0.919 (+/-0.008) for {'activation': 'tanh', 'alpha': 0.0001, 'learning_rate': 'adaptive', 'solver': 'adam'}\n",
      "0.899 (+/-0.012) for {'activation': 'tanh', 'alpha': 0.05, 'learning_rate': 'constant', 'solver': 'sgd'}\n",
      "0.923 (+/-0.008) for {'activation': 'tanh', 'alpha': 0.05, 'learning_rate': 'constant', 'solver': 'adam'}\n",
      "0.898 (+/-0.013) for {'activation': 'tanh', 'alpha': 0.05, 'learning_rate': 'adaptive', 'solver': 'sgd'}\n",
      "0.922 (+/-0.008) for {'activation': 'tanh', 'alpha': 0.05, 'learning_rate': 'adaptive', 'solver': 'adam'}\n",
      "0.909 (+/-0.013) for {'activation': 'relu', 'alpha': 0.0001, 'learning_rate': 'constant', 'solver': 'sgd'}\n",
      "0.918 (+/-0.009) for {'activation': 'relu', 'alpha': 0.0001, 'learning_rate': 'constant', 'solver': 'adam'}\n",
      "0.909 (+/-0.012) for {'activation': 'relu', 'alpha': 0.0001, 'learning_rate': 'adaptive', 'solver': 'sgd'}\n",
      "0.92 (+/-0.006) for {'activation': 'relu', 'alpha': 0.0001, 'learning_rate': 'adaptive', 'solver': 'adam'}\n",
      "0.908 (+/-0.01) for {'activation': 'relu', 'alpha': 0.05, 'learning_rate': 'constant', 'solver': 'sgd'}\n",
      "0.922 (+/-0.007) for {'activation': 'relu', 'alpha': 0.05, 'learning_rate': 'constant', 'solver': 'adam'}\n",
      "0.909 (+/-0.016) for {'activation': 'relu', 'alpha': 0.05, 'learning_rate': 'adaptive', 'solver': 'sgd'}\n",
      "0.921 (+/-0.008) for {'activation': 'relu', 'alpha': 0.05, 'learning_rate': 'adaptive', 'solver': 'adam'}\n"
     ]
    }
   ],
   "source": [
    "## TUNING TAKES A LONG PERIOD\n",
    "#fit original data\n",
    "#MLP1 = GridSearchCV(MLP,parameters3, cv=5)\n",
    "#MLP1.fit(A_trainO,B_train)\n",
    "#print_results(MLP1)"
   ]
  },
  {
   "cell_type": "code",
   "execution_count": 131,
   "metadata": {},
   "outputs": [
    {
     "name": "stdout",
     "output_type": "stream",
     "text": [
      "BEST PARAMS:{'activation': 'tanh', 'alpha': 0.0001, 'learning_rate': 'adaptive', 'solver': 'adam'}\n",
      "\n",
      "0.842 (+/-0.039) for {'activation': 'tanh', 'alpha': 0.0001, 'learning_rate': 'constant', 'solver': 'sgd'}\n",
      "0.906 (+/-0.062) for {'activation': 'tanh', 'alpha': 0.0001, 'learning_rate': 'constant', 'solver': 'adam'}\n",
      "0.844 (+/-0.035) for {'activation': 'tanh', 'alpha': 0.0001, 'learning_rate': 'adaptive', 'solver': 'sgd'}\n",
      "0.908 (+/-0.053) for {'activation': 'tanh', 'alpha': 0.0001, 'learning_rate': 'adaptive', 'solver': 'adam'}\n",
      "0.838 (+/-0.031) for {'activation': 'tanh', 'alpha': 0.05, 'learning_rate': 'constant', 'solver': 'sgd'}\n",
      "0.906 (+/-0.052) for {'activation': 'tanh', 'alpha': 0.05, 'learning_rate': 'constant', 'solver': 'adam'}\n",
      "0.839 (+/-0.031) for {'activation': 'tanh', 'alpha': 0.05, 'learning_rate': 'adaptive', 'solver': 'sgd'}\n",
      "0.905 (+/-0.052) for {'activation': 'tanh', 'alpha': 0.05, 'learning_rate': 'adaptive', 'solver': 'adam'}\n",
      "0.887 (+/-0.045) for {'activation': 'relu', 'alpha': 0.0001, 'learning_rate': 'constant', 'solver': 'sgd'}\n",
      "0.903 (+/-0.069) for {'activation': 'relu', 'alpha': 0.0001, 'learning_rate': 'constant', 'solver': 'adam'}\n",
      "0.888 (+/-0.048) for {'activation': 'relu', 'alpha': 0.0001, 'learning_rate': 'adaptive', 'solver': 'sgd'}\n",
      "0.9 (+/-0.069) for {'activation': 'relu', 'alpha': 0.0001, 'learning_rate': 'adaptive', 'solver': 'adam'}\n",
      "0.887 (+/-0.044) for {'activation': 'relu', 'alpha': 0.05, 'learning_rate': 'constant', 'solver': 'sgd'}\n",
      "0.899 (+/-0.064) for {'activation': 'relu', 'alpha': 0.05, 'learning_rate': 'constant', 'solver': 'adam'}\n",
      "0.888 (+/-0.043) for {'activation': 'relu', 'alpha': 0.05, 'learning_rate': 'adaptive', 'solver': 'sgd'}\n",
      "0.901 (+/-0.068) for {'activation': 'relu', 'alpha': 0.05, 'learning_rate': 'adaptive', 'solver': 'adam'}\n"
     ]
    }
   ],
   "source": [
    "## TUNING TAKES A LONG PERIOD\n",
    "## MLP2 overwrites MLP1\n",
    "#fit oversampled data\n",
    "#MLP2 = GridSearchCV(MLP,parameters3, cv=5)\n",
    "#MLP2.fit(A_trainS,B_train_res)\n",
    "#print_results(MLP2)"
   ]
  },
  {
   "cell_type": "code",
   "execution_count": 134,
   "metadata": {
    "scrolled": true
   },
   "outputs": [
    {
     "name": "stdout",
     "output_type": "stream",
     "text": [
      "Accuracy  0.910167818361303\n",
      "              precision    recall  f1-score   support\n",
      "\n",
      "           0       0.88      0.51      0.65       325\n",
      "           1       0.91      0.99      0.95      1701\n",
      "\n",
      "    accuracy                           0.91      2026\n",
      "   macro avg       0.90      0.75      0.80      2026\n",
      "weighted avg       0.91      0.91      0.90      2026\n",
      "\n"
     ]
    }
   ],
   "source": [
    "##MLP tree without SMOTE\n",
    "model7 = MLPClassifier(random_state=181,activation ='tanh', alpha=0.05, learning_rate='constant', solver ='adam')\n",
    "model7.fit(A_trainO,B_train)\n",
    "pred7 = model7.predict(A_test2)\n",
    "print('Accuracy ',accuracy_score(B_test,pred7))\n",
    "print(classification_report(B_test,pred7))"
   ]
  },
  {
   "cell_type": "code",
   "execution_count": 135,
   "metadata": {},
   "outputs": [
    {
     "data": {
      "text/plain": [
       "0.7486238864016642"
      ]
     },
     "execution_count": 135,
     "metadata": {},
     "output_type": "execute_result"
    }
   ],
   "source": [
    "## auc score original data\n",
    "auc_scoremlp1 = roc_auc_score(B_test, pred7)\n",
    "auc_scoremlp1"
   ]
  },
  {
   "cell_type": "code",
   "execution_count": 131,
   "metadata": {},
   "outputs": [
    {
     "name": "stdout",
     "output_type": "stream",
     "text": [
      "Accuracy  0.8869693978282329\n",
      "              precision    recall  f1-score   support\n",
      "\n",
      "           0       0.62      0.78      0.69       325\n",
      "           1       0.96      0.91      0.93      1701\n",
      "\n",
      "    accuracy                           0.89      2026\n",
      "   macro avg       0.79      0.84      0.81      2026\n",
      "weighted avg       0.90      0.89      0.89      2026\n",
      "\n"
     ]
    }
   ],
   "source": [
    "##MLP tree tree with SMOTE\n",
    "model8 = MLPClassifier(random_state=195,activation= 'tanh', alpha= 0.0001, learning_rate= 'adaptive', solver ='adam')\n",
    "model8.fit(A_trainS,B_train_res.ravel())\n",
    "pred8 = model8.predict(A_test2)\n",
    "print('Accuracy ',accuracy_score(B_test,pred8))\n",
    "print(classification_report(B_test,pred8))"
   ]
  },
  {
   "cell_type": "code",
   "execution_count": 132,
   "metadata": {},
   "outputs": [
    {
     "data": {
      "text/plain": [
       "0.8430814453036675"
      ]
     },
     "execution_count": 132,
     "metadata": {},
     "output_type": "execute_result"
    }
   ],
   "source": [
    "## auc score smote data\n",
    "auc_scoremlp2 = roc_auc_score(B_test, pred8)\n",
    "auc_scoremlp2"
   ]
  },
  {
   "cell_type": "code",
   "execution_count": null,
   "metadata": {},
   "outputs": [],
   "source": [
    "#model8.n_features\n",
    "#(model8.n_iter_)"
   ]
  },
  {
   "cell_type": "code",
   "execution_count": 133,
   "metadata": {},
   "outputs": [
    {
     "data": {
      "image/png": "[encoded data removed]",
      "text/plain": [
       "<Figure size 576x396 with 1 Axes>"
      ]
     },
     "metadata": {},
     "output_type": "display_data"
    }
   ],
   "source": [
    "# Plotting auc curve for the best models \n",
    "plt.style.use('seaborn')\n",
    "\n",
    "fpr2, tpr2, thresh2 = roc_curve(B_test, pred2) #lR\n",
    "fpr4, tpr4, thresh4 = roc_curve(B_test, pred4) #DT\n",
    "fpr6, tpr6, thresh6 = roc_curve(B_test, pred6) #RF\n",
    "fpr8, tpr8, thresh8 = roc_curve(B_test, pred8) #MLP\n",
    "random_probs = [0 for i in range(len(B_test))]\n",
    "p_fpr, p_tpr, _ = roc_curve(B_test, random_probs)\n",
    "\n",
    "plt.plot(fpr2, tpr2, linestyle='--',color='orange', label='Logistic Regression')\n",
    "plt.plot(fpr4, tpr4, linestyle='--',color='red', label='Decision Tree')\n",
    "plt.plot(fpr6, tpr6, linestyle='--',color='green', label='Random Forest')\n",
    "plt.plot(fpr8, tpr8, linestyle='--',color='brown', label='MLP classifier')\n",
    "plt.plot(p_fpr, p_tpr, linestyle='--', color='blue')\n",
    "plt.xlabel('False Positive Rate')\n",
    "plt.ylabel('True Positive rate')\n",
    "plt.title('Best models')\n",
    "plt.legend(loc='best')\n",
    "plt.show()"
   ]
  },
  {
   "cell_type": "code",
   "execution_count": null,
   "metadata": {},
   "outputs": [],
   "source": [
    "end."
   ]
  }
 ],
 "metadata": {
  "kernelspec": {
   "display_name": "Python 3",
   "language": "python",
   "name": "python3"
  },
  "language_info": {
   "codemirror_mode": {
    "name": "ipython",
    "version": 3
   },
   "file_extension": ".py",
   "mimetype": "text/x-python",
   "name": "python",
   "nbconvert_exporter": "python",
   "pygments_lexer": "ipython3",
   "version": "3.7.6"
  }
 },
 "nbformat": 4,
 "nbformat_minor": 4
}
